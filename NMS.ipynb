{
 "cells": [
  {
   "cell_type": "code",
   "execution_count": null,
   "metadata": {},
   "outputs": [
    {
     "name": "stdout",
     "output_type": "stream",
     "text": [
      "Selected boxes after NMS: [[100, 100, 210, 210], [300, 300, 400, 400]]\n"
     ]
    }
   ],
   "source": [
    "import numpy as np\n",
    "\n",
    "def bbox_iou(box1, box2):\n",
    "    \"\"\"\n",
    "    Compute the Intersection over Union (IoU) of two bounding boxes.\n",
    "    box1, box2: [x1, y1, x2, y2] where (x1, y1) is the top-left corner\n",
    "                and (x2, y2) is the bottom-right corner of the box.\n",
    "    \"\"\"\n",
    "    # Calculate the coordinates of the intersection rectangle\n",
    "    x1_inter = max(box1[0], box2[0])  # Leftmost point of the intersection\n",
    "    y1_inter = max(box1[1], box2[1])  # Topmost point of the intersection\n",
    "    x2_inter = min(box1[2], box2[2])  # Rightmost point of the intersection\n",
    "    y2_inter = min(box1[3], box2[3])  # Bottommost point of the intersection\n",
    "\n",
    "    # Compute the area of the intersection rectangle\n",
    "    inter_area = max(0, x2_inter - x1_inter) * max(0, y2_inter - y1_inter)\n",
    "\n",
    "    # Compute the area of both bounding boxes (area of box1 and box2)\n",
    "    box1_area = (box1[2] - box1[0]) * (box1[3] - box1[1])\n",
    "    box2_area = (box2[2] - box2[0]) * (box2[3] - box2[1])\n",
    "\n",
    "    # Compute the IoU: intersection area divided by the union of the two areas\n",
    "    iou = inter_area / float(box1_area + box2_area - inter_area)\n",
    "    return iou\n",
    "\n",
    "def non_max_suppression(boxes, scores, iou_threshold=0.5):\n",
    "    \"\"\"\n",
    "    Apply Non-Maximum Suppression (NMS) to filter out overlapping bounding boxes.\n",
    "    boxes: List of bounding boxes in the format [x1, y1, x2, y2]\n",
    "    scores: List of confidence scores for each bounding box\n",
    "    iou_threshold: Threshold for deciding whether boxes overlap too much\n",
    "    \"\"\"\n",
    "    # Step 1: Sort the boxes by their confidence scores in descending order\n",
    "    indices = np.argsort(scores)[::-1]\n",
    "\n",
    "    selected_boxes = []  # List to store the final selected boxes\n",
    "\n",
    "    while len(indices) > 0:\n",
    "        # Step 2: Pick the box with the highest score (first in the sorted list)\n",
    "        current_index = indices[0]\n",
    "        current_box = boxes[current_index]\n",
    "        selected_boxes.append(current_box)  # Add it to the selected boxes\n",
    "\n",
    "        # Step 3: Compare it with the remaining boxes and remove those that overlap too much\n",
    "        remaining_indices = []\n",
    "        for i in range(1, len(indices)):\n",
    "            iou = bbox_iou(current_box, boxes[indices[i]])\n",
    "            if iou < iou_threshold:\n",
    "                remaining_indices.append(indices[i])\n",
    "\n",
    "        # Step 4: Update the indices list to remove the overlapping boxes\n",
    "        indices = remaining_indices\n",
    "\n",
    "    # Step 5: Return the selected boxes after NMS\n",
    "    return selected_boxes\n",
    "\n",
    "# Example usage\n",
    "boxes = [\n",
    "    [100, 100, 210, 210],  # box 1\n",
    "    [120, 120, 200, 200],  # box 2 (overlapping with box 1)\n",
    "    [300, 300, 400, 400],  # box 3 (no overlap with others)\n",
    "]\n",
    "scores = [0.9, 0.75, 0.85]\n",
    "\n",
    "# Apply Non-Maximum Suppression (NMS) with an IoU threshold of 0.5\n",
    "nms_result = non_max_suppression(boxes, scores, iou_threshold=0.5)\n",
    "\n",
    "# Output the selected boxes after NMS\n",
    "print(\"Selected boxes after NMS:\", nms_result)"
   ]
  }
 ],
 "metadata": {
  "kernelspec": {
   "display_name": ".venv",
   "language": "python",
   "name": "python3"
  },
  "language_info": {
   "codemirror_mode": {
    "name": "ipython",
    "version": 3
   },
   "file_extension": ".py",
   "mimetype": "text/x-python",
   "name": "python",
   "nbconvert_exporter": "python",
   "pygments_lexer": "ipython3",
   "version": "3.11.1"
  }
 },
 "nbformat": 4,
 "nbformat_minor": 2
}
