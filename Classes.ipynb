{
 "cells": [
  {
   "cell_type": "code",
   "execution_count": 1,
   "metadata": {},
   "outputs": [],
   "source": [
    "class Guitar:\n",
    "    def __init__(self):\n",
    "        self.n_strings = 6\n",
    "        self.play()\n",
    "\n",
    "    def play(self):\n",
    "        print(\"pam pam pam pam pam pam pam\")\n"
   ]
  },
  {
   "cell_type": "code",
   "execution_count": 9,
   "metadata": {},
   "outputs": [],
   "source": [
    "# Inheritance\n",
    "class ElectricGuitar(Guitar):\n",
    "    def __init__(self):\n",
    "        super().__init__()\n",
    "        self.n_strings = 8\n",
    "    def playLouder(self):\n",
    "        print(\"pam pam pam pam pam pam pam\".upper())"
   ]
  },
  {
   "cell_type": "code",
   "execution_count": 10,
   "metadata": {},
   "outputs": [
    {
     "name": "stdout",
     "output_type": "stream",
     "text": [
      "pam pam pam pam pam pam pam\n",
      "8\n",
      "pam pam pam pam pam pam pam\n",
      "6\n"
     ]
    }
   ],
   "source": [
    "S_guitar = ElectricGuitar()\n",
    "print(S_guitar.n_strings)\n",
    "print(Guitar().n_strings)"
   ]
  },
  {
   "cell_type": "code",
   "execution_count": 8,
   "metadata": {},
   "outputs": [
    {
     "name": "stdout",
     "output_type": "stream",
     "text": [
      "PAM PAM PAM PAM PAM PAM PAM\n"
     ]
    }
   ],
   "source": [
    "S_guitar.playLouder()"
   ]
  },
  {
   "cell_type": "code",
   "execution_count": null,
   "metadata": {},
   "outputs": [],
   "source": []
  }
 ],
 "metadata": {
  "kernelspec": {
   "display_name": ".venv",
   "language": "python",
   "name": "python3"
  },
  "language_info": {
   "codemirror_mode": {
    "name": "ipython",
    "version": 3
   },
   "file_extension": ".py",
   "mimetype": "text/x-python",
   "name": "python",
   "nbconvert_exporter": "python",
   "pygments_lexer": "ipython3",
   "version": "3.11.1"
  }
 },
 "nbformat": 4,
 "nbformat_minor": 2
}
