{
 "cells": [
  {
   "cell_type": "code",
   "execution_count": 1,
   "metadata": {},
   "outputs": [],
   "source": [
    "from torch import nn"
   ]
  },
  {
   "cell_type": "code",
   "execution_count": 3,
   "metadata": {},
   "outputs": [],
   "source": [
    "class ResLayer(nn.Module):\n",
    "    \"\"\"A custom PyTorch neural network layer class ResLayer, which implements \n",
    "       a simple Residual Block for a convolutional neural network (CNN)\"\"\"\n",
    "    def __init__(self, ni, no, kernel_size, stride=1):\n",
    "        super(ResLayer, self).__init__()\n",
    "        padding = kernel_size - 2\n",
    "        self.conv = nn.Sequential(\n",
    "            nn.Conv2d(ni, no, kernel_size=kernel_size, stride=stride, padding=padding),\n",
    "            nn.ReLU()\n",
    "        )\n",
    "    def forward(self, x):\n",
    "        return self.conv(x) + x"
   ]
  }
 ],
 "metadata": {
  "kernelspec": {
   "display_name": ".venv",
   "language": "python",
   "name": "python3"
  },
  "language_info": {
   "codemirror_mode": {
    "name": "ipython",
    "version": 3
   },
   "file_extension": ".py",
   "mimetype": "text/x-python",
   "name": "python",
   "nbconvert_exporter": "python",
   "pygments_lexer": "ipython3",
   "version": "3.11.1"
  }
 },
 "nbformat": 4,
 "nbformat_minor": 2
}
