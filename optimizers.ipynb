{
 "cells": [
  {
   "cell_type": "markdown",
   "metadata": {},
   "source": [
    "### Adagrad optimizer"
   ]
  },
  {
   "cell_type": "code",
   "execution_count": 1,
   "metadata": {},
   "outputs": [
    {
     "name": "stdout",
     "output_type": "stream",
     "text": [
      "Updated weights: [ 4.00000010e-01 -2.00000005e-01  7.00000003e-01 -9.99999898e-09]\n"
     ]
    }
   ],
   "source": [
    "import numpy as np\n",
    "class Adagrad:\n",
    "    def __init__(self, learning_rate=0.01, epsilon=1e-8):\n",
    "        self.learning_rate = learning_rate\n",
    "        self.epsilon = epsilon\n",
    "        self.cache = None # Will hold the sum of the squares of the gradients\n",
    "    def update(self, weights, gradients):\n",
    "        \"\"\"\n",
    "        Update weights using Adagrad algorithm\n",
    "        \n",
    "        weights: current values of model parameters (numpy array)\n",
    "        gradients: gradients of the loss w.r.t the weights (numpy array)\n",
    "        \"\"\"\n",
    "        \n",
    "        # Initilaize cache if it is None\n",
    "        if self.cache is None:\n",
    "            self.cache = np.zeros_like(weights)\n",
    "        \n",
    "        # Accumulate the squared gradients\n",
    "        self.cache += gradients**2\n",
    "\n",
    "        # Update weights\n",
    "        weights -= self.learning_rate * gradients / (np.sqrt(self.cache) + self.epsilon)\n",
    "\n",
    "        return weights\n",
    "\n",
    "if __name__ == \"__main__\":\n",
    "        # Example usage\n",
    "    # Initial weights (parameters of a simple model)\n",
    "    weights = np.array([0.5, -0.3, 0.8, -0.1])  # Example weight vector\n",
    "\n",
    "    # Simulated gradients (gradients of the loss w.r.t these weights)\n",
    "    gradients = np.array([0.1, -0.2, 0.3, -0.1])  # Example gradient vector\n",
    "\n",
    "    # Initialize Adagrad optimizer\n",
    "    adagrad_optimizer = Adagrad(learning_rate=0.1)\n",
    "\n",
    "    # Perform a weight update using the gradients\n",
    "    updated_weights = adagrad_optimizer.update(weights, gradients)\n",
    "\n",
    "    print(\"Updated weights:\", updated_weights)\n"
   ]
  },
  {
   "cell_type": "code",
   "execution_count": 7,
   "metadata": {},
   "outputs": [
    {
     "name": "stdout",
     "output_type": "stream",
     "text": [
      "Iteration 0, Loss: 45.0000\n",
      "Iteration 100, Loss: 38.6792\n",
      "Iteration 200, Loss: 36.0957\n",
      "Iteration 300, Loss: 34.2036\n",
      "Iteration 400, Loss: 32.6686\n",
      "Iteration 500, Loss: 31.3611\n",
      "Iteration 600, Loss: 30.2147\n",
      "Iteration 700, Loss: 29.1900\n",
      "Iteration 800, Loss: 28.2611\n",
      "Iteration 900, Loss: 27.4104\n",
      "Optimized Parameters: [ 2.40558342 -0.93238559]\n"
     ]
    }
   ],
   "source": [
    "def adagrad_optimizer(gradient_function, params, learning_rate=0.01, epsilon=1e-8, iterations=1000):\n",
    "    \"\"\"\n",
    "    Adagrad optimizer implementation.\n",
    "\n",
    "    Parameters:\n",
    "        gradient_function: Callable\n",
    "            Function to compute gradients w.r.t parameters.\n",
    "        params: np.ndarray\n",
    "            Initial parameters for optimization.\n",
    "        learning_rate: float\n",
    "            Initial learning rate.\n",
    "        epsilon: float\n",
    "            Small value to avoid division by zero.\n",
    "        iterations: int\n",
    "            Number of optimization steps.\n",
    "\n",
    "    Returns:\n",
    "        params: np.ndarray\n",
    "            Optimized parameters.\n",
    "    \"\"\"\n",
    "    accumulated_grads = np.zeros_like(params)\n",
    "\n",
    "    for i in range(iterations):\n",
    "        gradients = gradient_function(params)\n",
    "        accumulated_grads += gradients**2\n",
    "        adjusted_learning_rates = learning_rate / (np.sqrt(accumulated_grads) + epsilon)\n",
    "        params -= adjusted_learning_rates * gradients\n",
    "\n",
    "        if i % 100 == 0:  # Logging progress every 100 iterations\n",
    "            loss = np.sum(gradients**2)  # Example: L2 loss\n",
    "            print(f\"Iteration {i}, Loss: {loss:.4f}\")\n",
    "\n",
    "    return params\n",
    "\n",
    "# Example Usage:\n",
    "\n",
    "def quadratic_gradient(params):\n",
    "    \"\"\"Gradient of a quadratic function: f(x) = x^2.\"\"\"\n",
    "    return 2 * params\n",
    "\n",
    "initial_params = np.array([3.0, -1.5])  # Starting points for optimization\n",
    "optimized_params = adagrad_optimizer(quadratic_gradient, initial_params)\n",
    "print(\"Optimized Parameters:\", optimized_params)"
   ]
  }
 ],
 "metadata": {
  "kernelspec": {
   "display_name": ".venv",
   "language": "python",
   "name": "python3"
  },
  "language_info": {
   "codemirror_mode": {
    "name": "ipython",
    "version": 3
   },
   "file_extension": ".py",
   "mimetype": "text/x-python",
   "name": "python",
   "nbconvert_exporter": "python",
   "pygments_lexer": "ipython3",
   "version": "3.11.1"
  }
 },
 "nbformat": 4,
 "nbformat_minor": 2
}
