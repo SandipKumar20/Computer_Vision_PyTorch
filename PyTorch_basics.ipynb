{
 "cells": [
  {
   "cell_type": "code",
   "execution_count": 1,
   "metadata": {},
   "outputs": [],
   "source": [
    "import torch\n",
    "import numpy as np\n",
    "import torch.nn as nn\n",
    "from torch.optim import SGD\n",
    "from torch.utils.data import Dataset, DataLoader\n",
    "import matplotlib.pyplot as plt\n",
    "import time"
   ]
  },
  {
   "cell_type": "code",
   "execution_count": 2,
   "metadata": {},
   "outputs": [
    {
     "data": {
      "text/plain": [
       "True"
      ]
     },
     "execution_count": 2,
     "metadata": {},
     "output_type": "execute_result"
    }
   ],
   "source": [
    "torch.cuda.is_available()"
   ]
  },
  {
   "cell_type": "code",
   "execution_count": 3,
   "metadata": {},
   "outputs": [
    {
     "name": "stdout",
     "output_type": "stream",
     "text": [
      "12.1\n"
     ]
    }
   ],
   "source": [
    "print(torch.version.cuda)"
   ]
  },
  {
   "cell_type": "code",
   "execution_count": 4,
   "metadata": {},
   "outputs": [],
   "source": [
    "# Tensors\n",
    "S0 = torch.tensor(1) # Zero dimensional tensor\n",
    "S1 = torch.tensor([1, 2, 3, 4]) # One dimensional tensor\n",
    "S2 = torch.tensor([[1, 2], \n",
    "                   [3, 4]]) # Two dimensional tensor\n",
    "S3 = torch.tensor([[[1, 2], \n",
    "                    [3, 4]], \n",
    "                   [[5, 6], \n",
    "                    [7, 8]]]) # Three dimensional tensor"
   ]
  },
  {
   "cell_type": "code",
   "execution_count": 5,
   "metadata": {},
   "outputs": [
    {
     "name": "stdout",
     "output_type": "stream",
     "text": [
      "torch.Size([]) torch.Size([4]) torch.Size([2, 2]) torch.Size([2, 2, 2])\n"
     ]
    }
   ],
   "source": [
    "print(S0.shape, S1.shape, S2.shape, S3.shape)"
   ]
  },
  {
   "cell_type": "code",
   "execution_count": 6,
   "metadata": {},
   "outputs": [
    {
     "name": "stdout",
     "output_type": "stream",
     "text": [
      "torch.int64 torch.int64 torch.int64 torch.int64\n"
     ]
    }
   ],
   "source": [
    "print(S0.dtype, S1.dtype, S2.dtype, S3.dtype)"
   ]
  },
  {
   "cell_type": "code",
   "execution_count": 7,
   "metadata": {},
   "outputs": [
    {
     "name": "stdout",
     "output_type": "stream",
     "text": [
      "0 1 2 3\n"
     ]
    }
   ],
   "source": [
    "print(S0.ndim, S1.ndim, S2.ndim, S3.ndim)"
   ]
  },
  {
   "cell_type": "code",
   "execution_count": 8,
   "metadata": {},
   "outputs": [],
   "source": [
    "S = torch.tensor([False, 2, 7.0])"
   ]
  },
  {
   "cell_type": "code",
   "execution_count": 9,
   "metadata": {},
   "outputs": [
    {
     "data": {
      "text/plain": [
       "tensor([0., 2., 7.])"
      ]
     },
     "execution_count": 9,
     "metadata": {},
     "output_type": "execute_result"
    }
   ],
   "source": [
    "S"
   ]
  },
  {
   "cell_type": "code",
   "execution_count": 10,
   "metadata": {},
   "outputs": [
    {
     "data": {
      "text/plain": [
       "tensor([[0., 0., 0.],\n",
       "        [0., 0., 0.]])"
      ]
     },
     "execution_count": 10,
     "metadata": {},
     "output_type": "execute_result"
    }
   ],
   "source": [
    "torch.zeros((2, 3))"
   ]
  },
  {
   "cell_type": "code",
   "execution_count": 11,
   "metadata": {},
   "outputs": [
    {
     "data": {
      "text/plain": [
       "tensor([[1., 1., 1.],\n",
       "        [1., 1., 1.]])"
      ]
     },
     "execution_count": 11,
     "metadata": {},
     "output_type": "execute_result"
    }
   ],
   "source": [
    "torch.ones((2, 3))"
   ]
  },
  {
   "cell_type": "code",
   "execution_count": 12,
   "metadata": {},
   "outputs": [
    {
     "data": {
      "text/plain": [
       "tensor([[2, 1, 7],\n",
       "        [7, 3, 9]])"
      ]
     },
     "execution_count": 12,
     "metadata": {},
     "output_type": "execute_result"
    }
   ],
   "source": [
    "torch.randint(low=0, high=10, size=(2, 3))"
   ]
  },
  {
   "cell_type": "code",
   "execution_count": 13,
   "metadata": {},
   "outputs": [
    {
     "data": {
      "text/plain": [
       "tensor([[0.4405, 0.4793, 0.9322],\n",
       "        [0.0411, 0.0600, 0.3135]])"
      ]
     },
     "execution_count": 13,
     "metadata": {},
     "output_type": "execute_result"
    }
   ],
   "source": [
    "torch.rand((2, 3))"
   ]
  },
  {
   "cell_type": "code",
   "execution_count": 14,
   "metadata": {},
   "outputs": [
    {
     "data": {
      "text/plain": [
       "tensor([[ 0.2128,  0.2290, -0.1673],\n",
       "        [ 0.4728, -0.0713, -0.1024]])"
      ]
     },
     "execution_count": 14,
     "metadata": {},
     "output_type": "execute_result"
    }
   ],
   "source": [
    "torch.randn((2, 3))"
   ]
  },
  {
   "cell_type": "code",
   "execution_count": 15,
   "metadata": {},
   "outputs": [],
   "source": [
    "S_npy = np.array([[1, 2, 3],\n",
    "                 [4, 5, 6]])\n",
    "S_pth = torch.tensor(S_npy)"
   ]
  },
  {
   "cell_type": "code",
   "execution_count": 16,
   "metadata": {},
   "outputs": [
    {
     "name": "stdout",
     "output_type": "stream",
     "text": [
      "<class 'numpy.ndarray'> <class 'torch.Tensor'>\n"
     ]
    }
   ],
   "source": [
    "print(type(S_npy), type(S_pth))"
   ]
  },
  {
   "cell_type": "code",
   "execution_count": 17,
   "metadata": {},
   "outputs": [
    {
     "name": "stdout",
     "output_type": "stream",
     "text": [
      "tensor([[10, 20, 30],\n",
      "        [40, 50, 60]])\n"
     ]
    }
   ],
   "source": [
    "S = torch.tensor([[1, 2, 3],\n",
    "                  [4, 5, 6]])\n",
    "print(S*10)"
   ]
  },
  {
   "cell_type": "code",
   "execution_count": 18,
   "metadata": {},
   "outputs": [
    {
     "name": "stdout",
     "output_type": "stream",
     "text": [
      "tensor([[11, 12, 13],\n",
      "        [14, 15, 16]])\n"
     ]
    }
   ],
   "source": [
    "y = S.add(10)\n",
    "print(y)"
   ]
  },
  {
   "cell_type": "code",
   "execution_count": 19,
   "metadata": {},
   "outputs": [
    {
     "name": "stdout",
     "output_type": "stream",
     "text": [
      "torch.Size([3])\n",
      "tensor([[1],\n",
      "        [2],\n",
      "        [3]])\n"
     ]
    }
   ],
   "source": [
    "S  = torch.tensor([1, 2, 3])\n",
    "print(S.shape)\n",
    "S = S.view(3, 1)\n",
    "print(S)"
   ]
  },
  {
   "cell_type": "code",
   "execution_count": 20,
   "metadata": {},
   "outputs": [
    {
     "name": "stdout",
     "output_type": "stream",
     "text": [
      "Squeeze:\n",
      " torch.Size([4, 1, 3]) torch.Size([4, 3])\n",
      "tensor([[[ 0.4436,  1.2476,  0.1401]],\n",
      "\n",
      "        [[-1.6111,  3.0905,  0.2835]],\n",
      "\n",
      "        [[-1.2981,  2.0361, -0.7476]],\n",
      "\n",
      "        [[ 0.9557,  1.4014,  0.9734]]]) tensor([[ 0.4436,  1.2476,  0.1401],\n",
      "        [-1.6111,  3.0905,  0.2835],\n",
      "        [-1.2981,  2.0361, -0.7476],\n",
      "        [ 0.9557,  1.4014,  0.9734]])\n"
     ]
    }
   ],
   "source": [
    "S = torch.randn(4, 1, 3)\n",
    "S_sq_1 = torch.squeeze(S, 1)\n",
    "S_sq_2 = S.squeeze(1)\n",
    "assert torch.all(S_sq_1 == S_sq_2)\n",
    "print(\"Squeeze:\\n\", S.shape, S_sq_1.shape)\n",
    "print(S, S_sq_1)\n"
   ]
  },
  {
   "cell_type": "code",
   "execution_count": 21,
   "metadata": {},
   "outputs": [
    {
     "name": "stdout",
     "output_type": "stream",
     "text": [
      "torch.Size([4, 3])\n",
      "torch.Size([1, 4, 3])\n"
     ]
    }
   ],
   "source": [
    "S = torch.randn(4, 3)\n",
    "print(S.shape)\n",
    "z1 = S.unsqueeze(0)\n",
    "print(z1.shape)"
   ]
  },
  {
   "cell_type": "code",
   "execution_count": 22,
   "metadata": {},
   "outputs": [
    {
     "name": "stdout",
     "output_type": "stream",
     "text": [
      "torch.Size([3, 4]) torch.Size([1, 3, 4]) torch.Size([3, 1, 4]) torch.Size([3, 4, 1])\n"
     ]
    }
   ],
   "source": [
    "S = torch.randn(3, 4)\n",
    "z2, z3, z4 = S[None], S[:, None], S[:, :, None]\n",
    "print(S.shape, z2.shape, z3.shape, z4.shape)"
   ]
  },
  {
   "cell_type": "code",
   "execution_count": 23,
   "metadata": {},
   "outputs": [
    {
     "name": "stdout",
     "output_type": "stream",
     "text": [
      "tensor([[ 58,  64],\n",
      "        [139, 154]])\n"
     ]
    }
   ],
   "source": [
    "# Matrix multiplication\n",
    "S = torch.tensor([[1, 2, 3],\n",
    "                  [4, 5, 6]])\n",
    "y = torch.tensor([[7, 8],\n",
    "                  [9, 10],\n",
    "                  [11, 12]])\n",
    "print(torch.matmul(S, y))"
   ]
  },
  {
   "cell_type": "code",
   "execution_count": 24,
   "metadata": {},
   "outputs": [
    {
     "name": "stdout",
     "output_type": "stream",
     "text": [
      "tensor([[ 58,  64],\n",
      "        [139, 154]])\n"
     ]
    }
   ],
   "source": [
    "print(S @ y)"
   ]
  },
  {
   "cell_type": "code",
   "execution_count": 25,
   "metadata": {},
   "outputs": [
    {
     "name": "stdout",
     "output_type": "stream",
     "text": [
      "tensor([[[-9.4173e-01,  6.2252e-01],\n",
      "         [-5.7188e-01, -1.4950e-03]],\n",
      "\n",
      "        [[-2.1180e+00,  2.0362e-01],\n",
      "         [-2.6490e-01,  7.4558e-01]]]) tensor([[[-9.4173e-01,  6.2252e-01],\n",
      "         [-5.7188e-01, -1.4950e-03]],\n",
      "\n",
      "        [[-2.1180e+00,  2.0362e-01],\n",
      "         [-2.6490e-01,  7.4558e-01]],\n",
      "\n",
      "        [[-9.4173e-01,  6.2252e-01],\n",
      "         [-5.7188e-01, -1.4950e-03]],\n",
      "\n",
      "        [[-2.1180e+00,  2.0362e-01],\n",
      "         [-2.6490e-01,  7.4558e-01]]])\n"
     ]
    }
   ],
   "source": [
    "S = torch.randn(2, 2, 2)\n",
    "C1 = torch.cat([S, S], axis=0)\n",
    "print(S, C1)"
   ]
  },
  {
   "cell_type": "code",
   "execution_count": 26,
   "metadata": {},
   "outputs": [
    {
     "name": "stdout",
     "output_type": "stream",
     "text": [
      "torch.Size([2, 2, 2]) torch.Size([2, 4, 2])\n"
     ]
    }
   ],
   "source": [
    "C2 = torch.cat([S, S], axis=1)\n",
    "print(S.shape, C2.shape)"
   ]
  },
  {
   "cell_type": "code",
   "execution_count": 27,
   "metadata": {},
   "outputs": [
    {
     "name": "stdout",
     "output_type": "stream",
     "text": [
      "tensor([[ 0,  1,  2,  3,  4],\n",
      "        [ 5,  6,  7,  8,  9],\n",
      "        [10, 11, 12, 13, 14],\n",
      "        [15, 16, 17, 18, 19],\n",
      "        [20, 21, 22, 23, 24]])\n"
     ]
    }
   ],
   "source": [
    "S = torch.arange(25).reshape(5, 5)\n",
    "print(S)"
   ]
  },
  {
   "cell_type": "code",
   "execution_count": 28,
   "metadata": {},
   "outputs": [
    {
     "data": {
      "text/plain": [
       "tensor(24)"
      ]
     },
     "execution_count": 28,
     "metadata": {},
     "output_type": "execute_result"
    }
   ],
   "source": [
    "S.max()"
   ]
  },
  {
   "cell_type": "code",
   "execution_count": 29,
   "metadata": {},
   "outputs": [
    {
     "data": {
      "text/plain": [
       "torch.return_types.max(\n",
       "values=tensor([20, 21, 22, 23, 24]),\n",
       "indices=tensor([4, 4, 4, 4, 4]))"
      ]
     },
     "execution_count": 29,
     "metadata": {},
     "output_type": "execute_result"
    }
   ],
   "source": [
    "S.max(dim=0)"
   ]
  },
  {
   "cell_type": "code",
   "execution_count": 30,
   "metadata": {},
   "outputs": [
    {
     "name": "stdout",
     "output_type": "stream",
     "text": [
      "tensor([ 4,  9, 14, 19, 24]) tensor([4, 4, 4, 4, 4])\n"
     ]
    }
   ],
   "source": [
    "m, argm = S.max(dim=1)\n",
    "print(m, argm)"
   ]
  },
  {
   "cell_type": "code",
   "execution_count": 31,
   "metadata": {},
   "outputs": [
    {
     "name": "stdout",
     "output_type": "stream",
     "text": [
      "torch.Size([10, 20, 30]) torch.Size([30, 10, 20])\n"
     ]
    }
   ],
   "source": [
    "S = torch.randn(10, 20, 30)\n",
    "z = S.permute(2, 0 , 1)\n",
    "print(S.shape, z.shape)"
   ]
  },
  {
   "cell_type": "code",
   "execution_count": 32,
   "metadata": {},
   "outputs": [],
   "source": [
    "S = torch.tensor([[2., -1.],\n",
    "                  [1., 1.]], requires_grad=True)"
   ]
  },
  {
   "cell_type": "code",
   "execution_count": 33,
   "metadata": {},
   "outputs": [
    {
     "name": "stdout",
     "output_type": "stream",
     "text": [
      "tensor([[ 2., -1.],\n",
      "        [ 1.,  1.]], requires_grad=True)\n"
     ]
    }
   ],
   "source": [
    "print(S)"
   ]
  },
  {
   "cell_type": "code",
   "execution_count": 34,
   "metadata": {},
   "outputs": [],
   "source": [
    "out = S.pow(2).sum()"
   ]
  },
  {
   "cell_type": "code",
   "execution_count": 35,
   "metadata": {},
   "outputs": [],
   "source": [
    "out.backward()"
   ]
  },
  {
   "cell_type": "code",
   "execution_count": 36,
   "metadata": {},
   "outputs": [
    {
     "data": {
      "text/plain": [
       "tensor([[ 4., -2.],\n",
       "        [ 2.,  2.]])"
      ]
     },
     "execution_count": 36,
     "metadata": {},
     "output_type": "execute_result"
    }
   ],
   "source": [
    "S.grad"
   ]
  },
  {
   "cell_type": "code",
   "execution_count": 37,
   "metadata": {},
   "outputs": [],
   "source": [
    "# Comparing the speed of cpu vs gpu when using PyTorch\n",
    "S = torch.rand(1, 6400)\n",
    "y = torch.rand(6400, 5000)"
   ]
  },
  {
   "cell_type": "code",
   "execution_count": 38,
   "metadata": {},
   "outputs": [
    {
     "name": "stdout",
     "output_type": "stream",
     "text": [
      "cuda\n"
     ]
    }
   ],
   "source": [
    "device = \"cuda\" if torch.cuda.is_available() else \"cpu\"\n",
    "print(device)"
   ]
  },
  {
   "cell_type": "code",
   "execution_count": 39,
   "metadata": {},
   "outputs": [],
   "source": [
    "S, y = S.to(device), y.to(device)"
   ]
  },
  {
   "cell_type": "code",
   "execution_count": 40,
   "metadata": {},
   "outputs": [
    {
     "name": "stdout",
     "output_type": "stream",
     "text": [
      "557 μs ± 3.85 μs per loop (mean ± std. dev. of 7 runs, 1,000 loops each)\n"
     ]
    }
   ],
   "source": [
    "%timeit z=(S@y)"
   ]
  },
  {
   "cell_type": "code",
   "execution_count": 41,
   "metadata": {},
   "outputs": [],
   "source": [
    "S, y = S.cpu(), y.cpu()"
   ]
  },
  {
   "cell_type": "code",
   "execution_count": 42,
   "metadata": {},
   "outputs": [
    {
     "name": "stdout",
     "output_type": "stream",
     "text": [
      "7.18 ms ± 448 μs per loop (mean ± std. dev. of 7 runs, 100 loops each)\n"
     ]
    }
   ],
   "source": [
    "%timeit z=(S@y)"
   ]
  },
  {
   "cell_type": "code",
   "execution_count": 43,
   "metadata": {},
   "outputs": [],
   "source": [
    "S = np.random.random((1, 6400))\n",
    "y = np.random.random((6400, 5000))"
   ]
  },
  {
   "cell_type": "code",
   "execution_count": 44,
   "metadata": {},
   "outputs": [
    {
     "name": "stdout",
     "output_type": "stream",
     "text": [
      "8.25 ms ± 199 μs per loop (mean ± std. dev. of 7 runs, 100 loops each)\n"
     ]
    }
   ],
   "source": [
    "%timeit z=(S@y)"
   ]
  },
  {
   "cell_type": "markdown",
   "metadata": {},
   "source": [
    "### A simple neural net using PyTorch"
   ]
  },
  {
   "cell_type": "code",
   "execution_count": 45,
   "metadata": {},
   "outputs": [],
   "source": [
    "# Input and Output values\n",
    "S = [[1,2], [3, 4], [5, 6], [7, 8]]\n",
    "y = [[3], [7], [11], [15]]\n",
    "S = torch.tensor(S).float()\n",
    "y = torch.tensor(y).float()"
   ]
  },
  {
   "cell_type": "code",
   "execution_count": 46,
   "metadata": {},
   "outputs": [
    {
     "name": "stdout",
     "output_type": "stream",
     "text": [
      "cuda\n"
     ]
    }
   ],
   "source": [
    "device = \"cuda\" if torch.cuda.is_available() else \"cpu\"\n",
    "print(device)"
   ]
  },
  {
   "cell_type": "code",
   "execution_count": 47,
   "metadata": {},
   "outputs": [],
   "source": [
    "S = S.to(device)\n",
    "y = y.to(device)"
   ]
  },
  {
   "cell_type": "code",
   "execution_count": 48,
   "metadata": {},
   "outputs": [],
   "source": [
    "class NeuralNet(nn.Module):\n",
    "    def __init__(self):\n",
    "        super().__init__()\n",
    "        self.input_to_hidden_layer = nn.Linear(2, 8)\n",
    "        self.hidden_layer_activation = nn.ReLU()\n",
    "        self.hidden_to_output_layer = nn.Linear(8, 1)\n",
    "\n",
    "    def forward(self, S):\n",
    "        S = self.input_to_hidden_layer(S)\n",
    "        S = self.hidden_layer_activation(S)\n",
    "        S = self.hidden_to_output_layer(S)\n",
    "        return S"
   ]
  },
  {
   "cell_type": "code",
   "execution_count": 49,
   "metadata": {},
   "outputs": [],
   "source": [
    "SNet = NeuralNet().to(device)"
   ]
  },
  {
   "cell_type": "code",
   "execution_count": 50,
   "metadata": {},
   "outputs": [
    {
     "data": {
      "text/plain": [
       "(Parameter containing:\n",
       " tensor([[-0.6323, -0.3286],\n",
       "         [-0.2465,  0.3543],\n",
       "         [-0.2539, -0.3938],\n",
       "         [-0.4934,  0.6257],\n",
       "         [ 0.4958,  0.0590],\n",
       "         [ 0.6419, -0.3058],\n",
       "         [-0.6251,  0.0131],\n",
       "         [ 0.5973, -0.1627]], device='cuda:0', requires_grad=True),\n",
       " <bound method Module.parameters of NeuralNet(\n",
       "   (input_to_hidden_layer): Linear(in_features=2, out_features=8, bias=True)\n",
       "   (hidden_layer_activation): ReLU()\n",
       "   (hidden_to_output_layer): Linear(in_features=8, out_features=1, bias=True)\n",
       " )>)"
      ]
     },
     "execution_count": 50,
     "metadata": {},
     "output_type": "execute_result"
    }
   ],
   "source": [
    "SNet.input_to_hidden_layer.weight, SNet.parameters"
   ]
  },
  {
   "cell_type": "code",
   "execution_count": 51,
   "metadata": {},
   "outputs": [
    {
     "name": "stdout",
     "output_type": "stream",
     "text": [
      "Parameter containing:\n",
      "tensor([[-0.6323, -0.3286],\n",
      "        [-0.2465,  0.3543],\n",
      "        [-0.2539, -0.3938],\n",
      "        [-0.4934,  0.6257],\n",
      "        [ 0.4958,  0.0590],\n",
      "        [ 0.6419, -0.3058],\n",
      "        [-0.6251,  0.0131],\n",
      "        [ 0.5973, -0.1627]], device='cuda:0', requires_grad=True)\n",
      "Parameter containing:\n",
      "tensor([ 0.1133, -0.1119,  0.1233, -0.1911,  0.3264, -0.6308,  0.5408, -0.1664],\n",
      "       device='cuda:0', requires_grad=True)\n",
      "Parameter containing:\n",
      "tensor([[-0.0706,  0.0734,  0.2362,  0.0972,  0.2772,  0.1912, -0.2140,  0.2100]],\n",
      "       device='cuda:0', requires_grad=True)\n",
      "Parameter containing:\n",
      "tensor([0.3071], device='cuda:0', requires_grad=True)\n"
     ]
    }
   ],
   "source": [
    "for par in SNet.parameters():\n",
    "    print(par)"
   ]
  },
  {
   "cell_type": "code",
   "execution_count": 52,
   "metadata": {},
   "outputs": [],
   "source": [
    "# Loss function, mean squared error\n",
    "loss_fn = nn.MSELoss()"
   ]
  },
  {
   "cell_type": "code",
   "execution_count": 53,
   "metadata": {},
   "outputs": [
    {
     "name": "stdout",
     "output_type": "stream",
     "text": [
      "tensor(69.3700, device='cuda:0', grad_fn=<MseLossBackward0>)\n"
     ]
    }
   ],
   "source": [
    "# Computing the loss value before training\n",
    "_y = SNet(S)\n",
    "print(loss_fn(_y, y))"
   ]
  },
  {
   "cell_type": "code",
   "execution_count": 54,
   "metadata": {},
   "outputs": [],
   "source": [
    "# Optimizer - Stochastic gradient descent\n",
    "opt = SGD(SNet.parameters(), lr=0.001)"
   ]
  },
  {
   "cell_type": "code",
   "execution_count": 55,
   "metadata": {},
   "outputs": [],
   "source": [
    "# Training the neural net\n",
    "loss_history = []\n",
    "for _ in range(100):\n",
    "    opt.zero_grad()\n",
    "    loss_value = loss_fn(SNet(S), y)\n",
    "    loss_value.backward()\n",
    "    opt.step()\n",
    "    loss_history.append(loss_value.item())"
   ]
  },
  {
   "cell_type": "code",
   "execution_count": 56,
   "metadata": {},
   "outputs": [
    {
     "data": {
      "text/plain": [
       "[69.37004089355469,\n",
       " 62.84416198730469,\n",
       " 55.616119384765625,\n",
       " 47.84701919555664,\n",
       " 39.812679290771484,\n",
       " 31.883155822753906,\n",
       " 24.468332290649414,\n",
       " 17.938282012939453,\n",
       " 12.543920516967773,\n",
       " 8.370494842529297,\n",
       " 5.342918872833252,\n",
       " 3.2755417823791504,\n",
       " 1.9387726783752441,\n",
       " 1.1142867803573608,\n",
       " 0.6254384517669678,\n",
       " 0.34470295906066895,\n",
       " 0.1874885857105255,\n",
       " 0.1011403426527977,\n",
       " 0.054407183080911636,\n",
       " 0.029390379786491394,\n",
       " 0.016106318682432175,\n",
       " 0.009094112552702427,\n",
       " 0.005406990181654692,\n",
       " 0.0034736450761556625,\n",
       " 0.002461005002260208,\n",
       " 0.0019302824512124062,\n",
       " 0.0016512797446921468,\n",
       " 0.00150355976074934,\n",
       " 0.0014242607867345214,\n",
       " 0.0013805576600134373,\n",
       " 0.0013553451281040907,\n",
       " 0.0013398107839748263,\n",
       " 0.0013293047668412328,\n",
       " 0.0013213710626587272,\n",
       " 0.001314849010668695,\n",
       " 0.0013090124120935798,\n",
       " 0.001303592580370605,\n",
       " 0.0012983279302716255,\n",
       " 0.001293239532969892,\n",
       " 0.0012882151640951633,\n",
       " 0.0012832089560106397,\n",
       " 0.0012782460544258356,\n",
       " 0.0012733215698972344,\n",
       " 0.0012683970853686333,\n",
       " 0.0012635007733479142,\n",
       " 0.001258603297173977,\n",
       " 0.0012537988368421793,\n",
       " 0.0012489402433857322,\n",
       " 0.0012441148282960057,\n",
       " 0.0012393426150083542,\n",
       " 0.0012345431605353951,\n",
       " 0.0012298001674935222,\n",
       " 0.0012250605504959822,\n",
       " 0.0012203356018289924,\n",
       " 0.0012156269513070583,\n",
       " 0.001210928661748767,\n",
       " 0.0012062604073435068,\n",
       " 0.001201620907522738,\n",
       " 0.0011969635961577296,\n",
       " 0.0011923782294616103,\n",
       " 0.001187765272334218,\n",
       " 0.0011831838637590408,\n",
       " 0.0011786107206717134,\n",
       " 0.0011740738991647959,\n",
       " 0.001169550814665854,\n",
       " 0.001165048684924841,\n",
       " 0.0011605413164943457,\n",
       " 0.0011560670100152493,\n",
       " 0.0011516002705320716,\n",
       " 0.0011471674079075456,\n",
       " 0.0011427262797951698,\n",
       " 0.0011383246164768934,\n",
       " 0.0011339405318722129,\n",
       " 0.0011295638978481293,\n",
       " 0.0011251962278038263,\n",
       " 0.001120851025916636,\n",
       " 0.0011165504110977054,\n",
       " 0.0011122218566015363,\n",
       " 0.0011079267133027315,\n",
       " 0.0011036447249352932,\n",
       " 0.0010994169861078262,\n",
       " 0.0010951599106192589,\n",
       " 0.001090928097255528,\n",
       " 0.001086713746190071,\n",
       " 0.001082523725926876,\n",
       " 0.001078335801139474,\n",
       " 0.0010741861769929528,\n",
       " 0.0010700278216972947,\n",
       " 0.0010659040417522192,\n",
       " 0.0010617922525852919,\n",
       " 0.0010576789500191808,\n",
       " 0.0010536023182794452,\n",
       " 0.001049520680680871,\n",
       " 0.0010454964358359575,\n",
       " 0.0010414726566523314,\n",
       " 0.0010374212870374322,\n",
       " 0.0010334138059988618,\n",
       " 0.0010294561507180333,\n",
       " 0.001025478239171207,\n",
       " 0.001021494739688933]"
      ]
     },
     "execution_count": 56,
     "metadata": {},
     "output_type": "execute_result"
    }
   ],
   "source": [
    "loss_history"
   ]
  },
  {
   "cell_type": "code",
   "execution_count": 57,
   "metadata": {},
   "outputs": [
    {
     "data": {
      "image/png": "[encoded data removed]",
      "text/plain": [
       "<Figure size 1000x600 with 1 Axes>"
      ]
     },
     "metadata": {},
     "output_type": "display_data"
    }
   ],
   "source": [
    "plt.figure(figsize=(10, 6))\n",
    "plt.plot(loss_history, color=\"green\")\n",
    "plt.title(\"Loss variation over increasing epochs\")\n",
    "plt.xlabel(\"epochs\")\n",
    "plt.ylabel(\"loss value\")\n",
    "plt.show()"
   ]
  },
  {
   "cell_type": "code",
   "execution_count": 58,
   "metadata": {},
   "outputs": [
    {
     "name": "stdout",
     "output_type": "stream",
     "text": [
      "Output: 3.0 Predicted Output: 3.055568218231201\n",
      "Output: 7.0 Predicted Output: 7.022704124450684\n",
      "Output: 11.0 Predicted Output: 11.000551223754883\n",
      "Output: 15.0 Predicted Output: 14.978399276733398\n"
     ]
    }
   ],
   "source": [
    "# Predicting the output using the trained neural net\n",
    "for input, output in zip(S, y):\n",
    "    print(f\"Output: {output.item()} Predicted Output: {SNet(input).item()}\")"
   ]
  },
  {
   "cell_type": "code",
   "execution_count": 59,
   "metadata": {},
   "outputs": [
    {
     "data": {
      "text/plain": [
       "tensor([14.3579], device='cuda:0', grad_fn=<ViewBackward0>)"
      ]
     },
     "execution_count": 59,
     "metadata": {},
     "output_type": "execute_result"
    }
   ],
   "source": [
    "SNet(torch.tensor((6,9)).float().to(device))"
   ]
  },
  {
   "cell_type": "markdown",
   "metadata": {},
   "source": [
    "### Training in batches"
   ]
  },
  {
   "cell_type": "code",
   "execution_count": 60,
   "metadata": {},
   "outputs": [],
   "source": [
    "# Input and Output values\n",
    "S = [[1, 2], [3, 4], [5, 6], [7, 8]]\n",
    "y = [[3], [7], [11], [15]]"
   ]
  },
  {
   "cell_type": "code",
   "execution_count": 61,
   "metadata": {},
   "outputs": [],
   "source": [
    "S = torch.tensor(S).float()\n",
    "y = torch.tensor(y).float()"
   ]
  },
  {
   "cell_type": "code",
   "execution_count": 62,
   "metadata": {},
   "outputs": [
    {
     "data": {
      "text/plain": [
       "'cuda'"
      ]
     },
     "execution_count": 62,
     "metadata": {},
     "output_type": "execute_result"
    }
   ],
   "source": [
    "device"
   ]
  },
  {
   "cell_type": "code",
   "execution_count": 63,
   "metadata": {},
   "outputs": [],
   "source": [
    "S = S.to(device)\n",
    "y = y.to(device)"
   ]
  },
  {
   "cell_type": "code",
   "execution_count": 64,
   "metadata": {},
   "outputs": [],
   "source": [
    "class Dataset(Dataset):\n",
    "    def __init__(self, S, y):\n",
    "        self.S = torch.tensor(S).float()\n",
    "        self.y = torch.tensor(y).float()\n",
    "    def __len__(self):\n",
    "        return len(self.S)\n",
    "    def __getitem__(self, iS):\n",
    "        return self.S[iS], self.y[iS]"
   ]
  },
  {
   "cell_type": "code",
   "execution_count": 65,
   "metadata": {},
   "outputs": [
    {
     "name": "stderr",
     "output_type": "stream",
     "text": [
      "C:\\Users\\SANDIP\\AppData\\Local\\Temp\\ipykernel_8408\\4047412261.py:3: UserWarning: To copy construct from a tensor, it is recommended to use sourceTensor.clone().detach() or sourceTensor.clone().detach().requires_grad_(True), rather than torch.tensor(sourceTensor).\n",
      "  self.S = torch.tensor(S).float()\n",
      "C:\\Users\\SANDIP\\AppData\\Local\\Temp\\ipykernel_8408\\4047412261.py:4: UserWarning: To copy construct from a tensor, it is recommended to use sourceTensor.clone().detach() or sourceTensor.clone().detach().requires_grad_(True), rather than torch.tensor(sourceTensor).\n",
      "  self.y = torch.tensor(y).float()\n"
     ]
    }
   ],
   "source": [
    "ds = Dataset(S, y)"
   ]
  },
  {
   "cell_type": "code",
   "execution_count": 66,
   "metadata": {},
   "outputs": [],
   "source": [
    "dl = DataLoader(ds, batch_size=2, shuffle=True)"
   ]
  },
  {
   "cell_type": "code",
   "execution_count": 67,
   "metadata": {},
   "outputs": [
    {
     "name": "stdout",
     "output_type": "stream",
     "text": [
      "tensor([[5., 6.],\n",
      "        [1., 2.]], device='cuda:0') tensor([[11.],\n",
      "        [ 3.]], device='cuda:0')\n",
      "tensor([[7., 8.],\n",
      "        [3., 4.]], device='cuda:0') tensor([[15.],\n",
      "        [ 7.]], device='cuda:0')\n"
     ]
    }
   ],
   "source": [
    "for S, y in dl:\n",
    "    print(S, y)"
   ]
  },
  {
   "cell_type": "code",
   "execution_count": 68,
   "metadata": {},
   "outputs": [],
   "source": [
    "class NeuralNet1(nn.Module):\n",
    "    def __init__(self):\n",
    "        super().__init__()\n",
    "        self.input_to_hidden_layer = nn.Linear(2, 8)\n",
    "        self.hidden_layer_activation = nn.ReLU()\n",
    "        self.hidden_to_output_layer = nn.Linear(8, 1)\n",
    "    def forward(self, S):\n",
    "        S = self.input_to_hidden_layer(S)\n",
    "        S = self.hidden_layer_activation(S)\n",
    "        S = self.hidden_to_output_layer(S)\n",
    "        return S"
   ]
  },
  {
   "cell_type": "code",
   "execution_count": 69,
   "metadata": {},
   "outputs": [],
   "source": [
    "SNet1 = NeuralNet1().to(device)\n",
    "loss_fn = nn.MSELoss()\n",
    "opt = SGD(SNet1.parameters(), lr=0.001)"
   ]
  },
  {
   "cell_type": "code",
   "execution_count": 70,
   "metadata": {},
   "outputs": [
    {
     "name": "stdout",
     "output_type": "stream",
     "text": [
      "0.15651822090148926\n"
     ]
    }
   ],
   "source": [
    "# Training the neural net\n",
    "loss_history = []\n",
    "start = time.time()\n",
    "for _ in range(100):\n",
    "    for data in dl:\n",
    "        S, y = data\n",
    "        opt.zero_grad()\n",
    "        loss_value = loss_fn(SNet1(S), y)\n",
    "        loss_value.backward()\n",
    "        opt.step()\n",
    "        loss_history.append(loss_value.item())\n",
    "end = time.time()\n",
    "print(end - start)"
   ]
  },
  {
   "cell_type": "code",
   "execution_count": 71,
   "metadata": {},
   "outputs": [
    {
     "data": {
      "text/plain": [
       "[205.1042022705078,\n",
       " 17.18320083618164,\n",
       " 30.81232261657715,\n",
       " 45.832210540771484,\n",
       " 14.53670883178711,\n",
       " 11.04357624053955,\n",
       " 3.48210072517395,\n",
       " 3.8431649208068848,\n",
       " 1.3447091579437256,\n",
       " 0.47411495447158813,\n",
       " 0.3090199828147888,\n",
       " 0.18009652197360992,\n",
       " 0.026414938271045685,\n",
       " 0.21954411268234253,\n",
       " 0.15201103687286377,\n",
       " 0.05497535690665245,\n",
       " 0.039406437426805496,\n",
       " 0.16395166516304016,\n",
       " 0.03992418572306633,\n",
       " 0.16242307424545288,\n",
       " 0.058465875685214996,\n",
       " 0.13834568858146667,\n",
       " 0.16577354073524475,\n",
       " 0.04873644560575485,\n",
       " 0.13574953377246857,\n",
       " 0.06073405593633652,\n",
       " 0.04039466753602028,\n",
       " 0.1576487272977829,\n",
       " 0.05686579644680023,\n",
       " 0.13541366159915924,\n",
       " 0.0590541772544384,\n",
       " 0.13233569264411926,\n",
       " 0.060106344521045685,\n",
       " 0.13066110014915466,\n",
       " 0.12443246692419052,\n",
       " 0.06579265743494034,\n",
       " 0.16112972795963287,\n",
       " 0.044039737433195114,\n",
       " 0.13076704740524292,\n",
       " 0.05802077800035477,\n",
       " 0.03899497166275978,\n",
       " 0.15118063986301422,\n",
       " 0.1271378993988037,\n",
       " 0.05875254049897194,\n",
       " 0.0374954491853714,\n",
       " 0.15015412867069244,\n",
       " 0.12530376017093658,\n",
       " 0.058342888951301575,\n",
       " 0.1597009301185608,\n",
       " 0.03729575499892235,\n",
       " 0.052247196435928345,\n",
       " 0.1287582665681839,\n",
       " 0.1414780169725418,\n",
       " 0.04041912034153938,\n",
       " 0.03077201172709465,\n",
       " 0.15077228844165802,\n",
       " 0.13980633020401,\n",
       " 0.03998734429478645,\n",
       " 0.03043433651328087,\n",
       " 0.14901292324066162,\n",
       " 0.15075485408306122,\n",
       " 0.040362972766160965,\n",
       " 0.050665657967329025,\n",
       " 0.12388231605291367,\n",
       " 0.05284293368458748,\n",
       " 0.12031862884759903,\n",
       " 0.024123309180140495,\n",
       " 0.16130712628364563,\n",
       " 0.025158127769827843,\n",
       " 0.1598416566848755,\n",
       " 0.05431411415338516,\n",
       " 0.11661387234926224,\n",
       " 0.02585306018590927,\n",
       " 0.15756772458553314,\n",
       " 0.028383389115333557,\n",
       " 0.14289334416389465,\n",
       " 0.11255085468292236,\n",
       " 0.05537375807762146,\n",
       " 0.018330685794353485,\n",
       " 0.15815788507461548,\n",
       " 0.13921254873275757,\n",
       " 0.04213700816035271,\n",
       " 0.03556070476770401,\n",
       " 0.13301202654838562,\n",
       " 0.015744982287287712,\n",
       " 0.15675167739391327,\n",
       " 0.10861549526453018,\n",
       " 0.054472826421260834,\n",
       " 0.0486568883061409,\n",
       " 0.11267369240522385,\n",
       " 0.02850016951560974,\n",
       " 0.13489684462547302,\n",
       " 0.13786037266254425,\n",
       " 0.0360538586974144,\n",
       " 0.11128093302249908,\n",
       " 0.04914911836385727,\n",
       " 0.10910217463970184,\n",
       " 0.04984964057803154,\n",
       " 0.12200167775154114,\n",
       " 0.037153977900743484,\n",
       " 0.12453593313694,\n",
       " 0.0338379330933094,\n",
       " 0.04975355044007301,\n",
       " 0.10611946135759354,\n",
       " 0.12699809670448303,\n",
       " 0.043591417372226715,\n",
       " 0.10607045888900757,\n",
       " 0.048383474349975586,\n",
       " 0.10482264310121536,\n",
       " 0.04856579005718231,\n",
       " 0.11802748590707779,\n",
       " 0.03568529710173607,\n",
       " 0.020460981875658035,\n",
       " 0.14141392707824707,\n",
       " 0.12457406520843506,\n",
       " 0.04050913825631142,\n",
       " 0.013810266740620136,\n",
       " 0.14325912296772003,\n",
       " 0.09915678948163986,\n",
       " 0.049508482217788696,\n",
       " 0.04431841894984245,\n",
       " 0.10275285691022873,\n",
       " 0.09728492796421051,\n",
       " 0.04975968599319458,\n",
       " 0.1255510151386261,\n",
       " 0.03306184336543083,\n",
       " 0.012378325685858727,\n",
       " 0.13995197415351868,\n",
       " 0.11379352957010269,\n",
       " 0.03208303079009056,\n",
       " 0.09431875497102737,\n",
       " 0.04951644688844681,\n",
       " 0.01704653538763523,\n",
       " 0.13456352055072784,\n",
       " 0.09375756978988647,\n",
       " 0.048315003514289856,\n",
       " 0.11076193302869797,\n",
       " 0.0317695289850235,\n",
       " 0.020148493349552155,\n",
       " 0.13068222999572754,\n",
       " 0.0442889928817749,\n",
       " 0.09525340795516968,\n",
       " 0.023252490907907486,\n",
       " 0.11744197458028793,\n",
       " 0.02575523965060711,\n",
       " 0.11414994299411774,\n",
       " 0.040964312851428986,\n",
       " 0.09551730006933212,\n",
       " 0.10845258831977844,\n",
       " 0.02946055494248867,\n",
       " 0.020648766309022903,\n",
       " 0.1257782280445099,\n",
       " 0.020420795306563377,\n",
       " 0.12508337199687958,\n",
       " 0.020262081176042557,\n",
       " 0.12436479330062866,\n",
       " 0.10732612758874893,\n",
       " 0.027770860120654106,\n",
       " 0.10745416581630707,\n",
       " 0.02712901495397091,\n",
       " 0.10684100538492203,\n",
       " 0.03901566565036774,\n",
       " 0.038451094180345535,\n",
       " 0.09194384515285492,\n",
       " 0.1030379980802536,\n",
       " 0.02854199707508087,\n",
       " 0.021896226331591606,\n",
       " 0.10938691347837448,\n",
       " 0.03906402736902237,\n",
       " 0.08911740779876709,\n",
       " 0.04005979374051094,\n",
       " 0.08775091171264648,\n",
       " 0.04041827470064163,\n",
       " 0.08690690994262695,\n",
       " 0.08281417191028595,\n",
       " 0.044076696038246155,\n",
       " 0.0991438552737236,\n",
       " 0.02798488177359104,\n",
       " 0.021366562694311142,\n",
       " 0.10551637411117554,\n",
       " 0.09782341867685318,\n",
       " 0.027854500338435173,\n",
       " 0.10251592844724655,\n",
       " 0.03333558887243271,\n",
       " 0.035925112664699554,\n",
       " 0.0866699367761612,\n",
       " 0.08166799694299698,\n",
       " 0.04070693254470825,\n",
       " 0.036475155502557755,\n",
       " 0.08459578454494476,\n",
       " 0.0963050052523613,\n",
       " 0.026043973863124847,\n",
       " 0.09704571962356567,\n",
       " 0.024970930069684982,\n",
       " 0.07781673222780228,\n",
       " 0.042255014181137085,\n",
       " 0.01482139527797699,\n",
       " 0.1117987111210823,\n",
       " 0.020540310069918633,\n",
       " 0.09931685775518417]"
      ]
     },
     "execution_count": 71,
     "metadata": {},
     "output_type": "execute_result"
    }
   ],
   "source": [
    "loss_history"
   ]
  },
  {
   "cell_type": "code",
   "execution_count": 72,
   "metadata": {},
   "outputs": [
    {
     "name": "stdout",
     "output_type": "stream",
     "text": [
      "Input: tensor([1., 2.], device='cuda:0') Output: 3.0 Predicted Output: 2.602985382080078\n",
      "Input: tensor([7., 8.], device='cuda:0') Output: 15.0 Predicted Output: 15.164240837097168\n"
     ]
    }
   ],
   "source": [
    "for input, output in zip(S, y):\n",
    "    print(f\"Input: {input} Output: {output.item()} Predicted Output: {SNet1(input).item()}\")"
   ]
  },
  {
   "cell_type": "code",
   "execution_count": 73,
   "metadata": {},
   "outputs": [],
   "source": [
    "S_ = [[9, 14]]\n",
    "S_ = torch.tensor(S_).float().to(device)"
   ]
  },
  {
   "cell_type": "code",
   "execution_count": 74,
   "metadata": {},
   "outputs": [
    {
     "data": {
      "text/plain": [
       "23.84184455871582"
      ]
     },
     "execution_count": 74,
     "metadata": {},
     "output_type": "execute_result"
    }
   ],
   "source": [
    "SNet1(S_).item()"
   ]
  },
  {
   "cell_type": "markdown",
   "metadata": {},
   "source": [
    "### Custom loss function"
   ]
  },
  {
   "cell_type": "code",
   "execution_count": 75,
   "metadata": {},
   "outputs": [],
   "source": [
    "def mean_squared_error(y_, y):\n",
    "    \"\"\"Function to compute the mse loss function \n",
    "       y_ -> Predicted Output\n",
    "       y  -> True Output\n",
    "    \"\"\"\n",
    "    loss = (y_ - y)**2\n",
    "    loss = loss.mean()\n",
    "    return loss"
   ]
  },
  {
   "cell_type": "code",
   "execution_count": 76,
   "metadata": {},
   "outputs": [
    {
     "data": {
      "text/plain": [
       "tensor(0.0923, device='cuda:0', grad_fn=<MeanBackward0>)"
      ]
     },
     "execution_count": 76,
     "metadata": {},
     "output_type": "execute_result"
    }
   ],
   "source": [
    "mean_squared_error(SNet1(S), y)"
   ]
  },
  {
   "cell_type": "markdown",
   "metadata": {},
   "source": [
    "### Fetching values of the Intermediate layers"
   ]
  },
  {
   "cell_type": "code",
   "execution_count": 77,
   "metadata": {},
   "outputs": [],
   "source": [
    "# Creating input and output tensors\n",
    "S = [[1, 2], [3, 4], [5, 6], [7, 8]]\n",
    "y = [[3], [7], [11], [15]]\n",
    "S = torch.tensor(S).float()\n",
    "y = torch.tensor(y).float()"
   ]
  },
  {
   "cell_type": "code",
   "execution_count": 78,
   "metadata": {},
   "outputs": [
    {
     "name": "stdout",
     "output_type": "stream",
     "text": [
      "cuda\n"
     ]
    }
   ],
   "source": [
    "print(device)"
   ]
  },
  {
   "cell_type": "code",
   "execution_count": 79,
   "metadata": {},
   "outputs": [],
   "source": [
    "S = S.to(device)\n",
    "y = y.to(device)"
   ]
  },
  {
   "cell_type": "code",
   "execution_count": 80,
   "metadata": {},
   "outputs": [],
   "source": [
    "class NeuralNet2(nn.Module):\n",
    "    def __init__(self):\n",
    "        super().__init__()\n",
    "        self.input_to_hidden_layer = nn.Linear(2, 8)\n",
    "        self.hidden_layer_activation = nn.ReLU()\n",
    "        self.hidden_to_output_layer = nn.Linear(8, 1)\n",
    "    def forward(self, S):\n",
    "        S = self.input_to_hidden_layer(S)\n",
    "        S = self.hidden_layer_activation(S)\n",
    "        S = self.hidden_to_output_layer(S)\n",
    "        return S"
   ]
  },
  {
   "cell_type": "code",
   "execution_count": 81,
   "metadata": {},
   "outputs": [],
   "source": [
    "SNet2 = NeuralNet2().to(device)"
   ]
  },
  {
   "cell_type": "code",
   "execution_count": 82,
   "metadata": {},
   "outputs": [],
   "source": [
    "loss_fn = nn.MSELoss()"
   ]
  },
  {
   "cell_type": "code",
   "execution_count": 83,
   "metadata": {},
   "outputs": [
    {
     "name": "stdout",
     "output_type": "stream",
     "text": [
      "tensor(174.2070, device='cuda:0', grad_fn=<MseLossBackward0>)\n"
     ]
    }
   ],
   "source": [
    "y_ = SNet2(S)\n",
    "print(loss_fn(y_, y))"
   ]
  },
  {
   "cell_type": "code",
   "execution_count": 84,
   "metadata": {},
   "outputs": [],
   "source": [
    "opt = SGD(SNet2.parameters(), lr=0.001)"
   ]
  },
  {
   "cell_type": "code",
   "execution_count": 85,
   "metadata": {},
   "outputs": [],
   "source": [
    "# Training the neural net\n",
    "loss_history = []\n",
    "for _ in range(100):\n",
    "    opt.zero_grad()\n",
    "    loss_value = loss_fn(SNet2(S), y)\n",
    "    loss_value.backward()\n",
    "    opt.step()\n",
    "    loss_history.append(loss_value.item())"
   ]
  },
  {
   "cell_type": "code",
   "execution_count": 86,
   "metadata": {},
   "outputs": [
    {
     "data": {
      "text/plain": [
       "[174.2069549560547,\n",
       " 112.77606201171875,\n",
       " 76.83944702148438,\n",
       " 52.154972076416016,\n",
       " 34.297019958496094,\n",
       " 21.520122528076172,\n",
       " 12.809086799621582,\n",
       " 7.3146653175354,\n",
       " 3.9850711822509766,\n",
       " 2.083468437194824,\n",
       " 1.055672526359558,\n",
       " 0.5244715213775635,\n",
       " 0.25926274061203003,\n",
       " 0.1302158087491989,\n",
       " 0.06857603043317795,\n",
       " 0.03951261192560196,\n",
       " 0.025926493108272552,\n",
       " 0.019606802612543106,\n",
       " 0.016671113669872284,\n",
       " 0.015301968902349472,\n",
       " 0.01465580239892006,\n",
       " 0.01434213388711214,\n",
       " 0.014181247912347317,\n",
       " 0.01409057155251503,\n",
       " 0.014031954109668732,\n",
       " 0.013988055288791656,\n",
       " 0.013950914144515991,\n",
       " 0.013917075470089912,\n",
       " 0.013884669169783592,\n",
       " 0.01385288592427969,\n",
       " 0.013821587897837162,\n",
       " 0.01379037369042635,\n",
       " 0.013759435154497623,\n",
       " 0.013728481717407703,\n",
       " 0.013697652146220207,\n",
       " 0.013666944578289986,\n",
       " 0.013636252842843533,\n",
       " 0.013605602085590363,\n",
       " 0.01357493456453085,\n",
       " 0.013544496148824692,\n",
       " 0.013514107093214989,\n",
       " 0.013483721762895584,\n",
       " 0.013453387655317783,\n",
       " 0.013423234224319458,\n",
       " 0.013393048197031021,\n",
       " 0.013363048434257507,\n",
       " 0.013332950882613659,\n",
       " 0.013302930630743504,\n",
       " 0.013273119926452637,\n",
       " 0.013243284076452255,\n",
       " 0.013213561847805977,\n",
       " 0.01318384986370802,\n",
       " 0.013154157437384129,\n",
       " 0.013124579563736916,\n",
       " 0.01309510413557291,\n",
       " 0.01306564174592495,\n",
       " 0.01303635910153389,\n",
       " 0.013007066212594509,\n",
       " 0.01297775562852621,\n",
       " 0.012948574498295784,\n",
       " 0.012919432483613491,\n",
       " 0.01289040595293045,\n",
       " 0.012861483730375767,\n",
       " 0.012832527980208397,\n",
       " 0.012803731486201286,\n",
       " 0.012774924747645855,\n",
       " 0.012746158055961132,\n",
       " 0.012717507779598236,\n",
       " 0.012688823975622654,\n",
       " 0.012660345993936062,\n",
       " 0.012631836347281933,\n",
       " 0.012603461742401123,\n",
       " 0.012575055472552776,\n",
       " 0.012546774931252003,\n",
       " 0.012518581002950668,\n",
       " 0.012490406632423401,\n",
       " 0.012462306767702103,\n",
       " 0.012434217147529125,\n",
       " 0.012406224384903908,\n",
       " 0.012378361076116562,\n",
       " 0.012350497767329216,\n",
       " 0.012322640046477318,\n",
       " 0.012294961139559746,\n",
       " 0.01226731762290001,\n",
       " 0.012239665724337101,\n",
       " 0.012212126515805721,\n",
       " 0.01218460313975811,\n",
       " 0.012157164514064789,\n",
       " 0.012129846960306168,\n",
       " 0.012102431617677212,\n",
       " 0.012075217440724373,\n",
       " 0.012048075906932354,\n",
       " 0.012020928785204887,\n",
       " 0.011993912048637867,\n",
       " 0.011966945603489876,\n",
       " 0.011939951218664646,\n",
       " 0.011913027614355087,\n",
       " 0.011886140331625938,\n",
       " 0.011859448626637459,\n",
       " 0.011832738295197487]"
      ]
     },
     "execution_count": 86,
     "metadata": {},
     "output_type": "execute_result"
    }
   ],
   "source": [
    "loss_history"
   ]
  },
  {
   "cell_type": "code",
   "execution_count": 87,
   "metadata": {},
   "outputs": [
    {
     "data": {
      "image/png": "[encoded data removed]",
      "text/plain": [
       "<Figure size 1000x600 with 1 Axes>"
      ]
     },
     "metadata": {},
     "output_type": "display_data"
    }
   ],
   "source": [
    "plt.figure(figsize=(10, 6))\n",
    "plt.plot(loss_history, color=\"green\")\n",
    "plt.title(\"Loss variation over increasing epochs\")\n",
    "plt.xlabel(\"epochs\")\n",
    "plt.ylabel(\"loss value\")\n",
    "plt.show()"
   ]
  },
  {
   "cell_type": "code",
   "execution_count": 88,
   "metadata": {},
   "outputs": [
    {
     "name": "stdout",
     "output_type": "stream",
     "text": [
      "tensor([[ 1.1181,  0.0000,  0.0000,  2.2297,  0.7140,  1.3933,  0.0000,  1.4384],\n",
      "        [ 2.0654,  0.0000,  0.0000,  5.3353,  1.0548,  3.2006,  0.0000,  3.0978],\n",
      "        [ 3.0128,  0.0000,  0.0000,  8.4408,  1.3956,  5.0080,  0.0000,  4.7572],\n",
      "        [ 3.9602,  0.0000,  0.0000, 11.5464,  1.7363,  6.8153,  0.0000,  6.4166]],\n",
      "       device='cuda:0', grad_fn=<ReluBackward0>)\n"
     ]
    }
   ],
   "source": [
    "# Fetching intermediate values by directly calling the intermediate layer\n",
    "input_to_hidden = SNet2.input_to_hidden_layer(S)\n",
    "hidden_activation = SNet2.hidden_layer_activation(input_to_hidden)\n",
    "print(hidden_activation)"
   ]
  },
  {
   "cell_type": "markdown",
   "metadata": {},
   "source": [
    "### Fetching intermediate values by returning them in nn.Module definition"
   ]
  },
  {
   "cell_type": "code",
   "execution_count": 89,
   "metadata": {},
   "outputs": [],
   "source": [
    "# Creating input and output tensors\n",
    "S = [[1, 2], [3, 4], [5, 6], [7, 8]]\n",
    "y = [[3], [7], [11], [15]]\n",
    "S = torch.tensor(S).float()\n",
    "y = torch.tensor(y).float()"
   ]
  },
  {
   "cell_type": "code",
   "execution_count": 90,
   "metadata": {},
   "outputs": [
    {
     "data": {
      "text/plain": [
       "'cuda'"
      ]
     },
     "execution_count": 90,
     "metadata": {},
     "output_type": "execute_result"
    }
   ],
   "source": [
    "device"
   ]
  },
  {
   "cell_type": "code",
   "execution_count": 91,
   "metadata": {},
   "outputs": [],
   "source": [
    "S = S.to(device)\n",
    "y = y.to(device)"
   ]
  },
  {
   "cell_type": "code",
   "execution_count": 92,
   "metadata": {},
   "outputs": [],
   "source": [
    "class NeuralNet3(nn.Module):\n",
    "    def __init__(self):\n",
    "        super().__init__()\n",
    "        self.input_to_hidden_layer = nn.Linear(2, 8)\n",
    "        self.hidden_layer_activation = nn.ReLU()\n",
    "        self.hidden_to_output_layer = nn.Linear(8, 1)\n",
    "    def forward(self, S):\n",
    "        hidden1 = self.input_to_hidden_layer(S)\n",
    "        hidden2 = self.hidden_layer_activation(hidden1)\n",
    "        S = self.hidden_to_output_layer(hidden2)\n",
    "        return S, hidden1\n"
   ]
  },
  {
   "cell_type": "code",
   "execution_count": 93,
   "metadata": {},
   "outputs": [],
   "source": [
    "SNet3 = NeuralNet3().to(device)\n",
    "loss_fn = nn.MSELoss()"
   ]
  },
  {
   "cell_type": "code",
   "execution_count": 94,
   "metadata": {},
   "outputs": [
    {
     "name": "stdout",
     "output_type": "stream",
     "text": [
      "tensor(111.3085, device='cuda:0', grad_fn=<MseLossBackward0>)\n"
     ]
    }
   ],
   "source": [
    "y_, y_hidden = SNet3(S)\n",
    "print(loss_fn(y_, y))"
   ]
  },
  {
   "cell_type": "code",
   "execution_count": 95,
   "metadata": {},
   "outputs": [],
   "source": [
    "opt = SGD(SNet3.parameters(), lr=0.001)"
   ]
  },
  {
   "cell_type": "code",
   "execution_count": 96,
   "metadata": {},
   "outputs": [],
   "source": [
    "loss_history = []\n",
    "for _ in range(100):\n",
    "    opt.zero_grad()\n",
    "    loss_value = loss_fn(SNet3(S)[0], y)\n",
    "    loss_value.backward()\n",
    "    opt.step()\n",
    "    loss_history.append(loss_value.item())"
   ]
  },
  {
   "cell_type": "code",
   "execution_count": 97,
   "metadata": {},
   "outputs": [
    {
     "data": {
      "text/plain": [
       "[111.30845642089844,\n",
       " 98.71185302734375,\n",
       " 87.57980346679688,\n",
       " 76.96890258789062,\n",
       " 66.42707824707031,\n",
       " 55.84857940673828,\n",
       " 45.399288177490234,\n",
       " 35.44084167480469,\n",
       " 26.42229461669922,\n",
       " 18.74579429626465,\n",
       " 12.646235466003418,\n",
       " 8.134072303771973,\n",
       " 5.022086143493652,\n",
       " 3.0110268592834473,\n",
       " 1.784034252166748,\n",
       " 1.0708497762680054,\n",
       " 0.6722503304481506,\n",
       " 0.4561423063278198,\n",
       " 0.34158170223236084,\n",
       " 0.2817726731300354,\n",
       " 0.250802606344223,\n",
       " 0.23476538062095642,\n",
       " 0.22636492550373077,\n",
       " 0.22183522582054138,\n",
       " 0.21925663948059082,\n",
       " 0.21765653789043427,\n",
       " 0.2165464460849762,\n",
       " 0.21568159759044647,\n",
       " 0.2149394303560257,\n",
       " 0.214259535074234,\n",
       " 0.21361148357391357,\n",
       " 0.21298015117645264,\n",
       " 0.21235734224319458,\n",
       " 0.21174125373363495,\n",
       " 0.21112847328186035,\n",
       " 0.21051791310310364,\n",
       " 0.20991018414497375,\n",
       " 0.2093043029308319,\n",
       " 0.20870105922222137,\n",
       " 0.20809908211231232,\n",
       " 0.2074989229440689,\n",
       " 0.20690080523490906,\n",
       " 0.20630478858947754,\n",
       " 0.20571038126945496,\n",
       " 0.20511794090270996,\n",
       " 0.20452715456485748,\n",
       " 0.20393814146518707,\n",
       " 0.20335105061531067,\n",
       " 0.20276588201522827,\n",
       " 0.20218220353126526,\n",
       " 0.20160067081451416,\n",
       " 0.201020747423172,\n",
       " 0.20044226944446564,\n",
       " 0.19986584782600403,\n",
       " 0.19929146766662598,\n",
       " 0.19871877133846283,\n",
       " 0.19814778864383698,\n",
       " 0.19757820665836334,\n",
       " 0.1970106065273285,\n",
       " 0.19644516706466675,\n",
       " 0.19588062167167664,\n",
       " 0.19531837105751038,\n",
       " 0.19475743174552917,\n",
       " 0.19419868290424347,\n",
       " 0.19364140927791595,\n",
       " 0.19308589398860931,\n",
       " 0.19253185391426086,\n",
       " 0.19197961688041687,\n",
       " 0.19142913818359375,\n",
       " 0.19088038802146912,\n",
       " 0.19033348560333252,\n",
       " 0.18978799879550934,\n",
       " 0.18924421072006226,\n",
       " 0.18870171904563904,\n",
       " 0.18816117942333221,\n",
       " 0.18762251734733582,\n",
       " 0.1870851367712021,\n",
       " 0.1865496039390564,\n",
       " 0.18601560592651367,\n",
       " 0.18548303842544556,\n",
       " 0.18495208024978638,\n",
       " 0.18442338705062866,\n",
       " 0.18389594554901123,\n",
       " 0.18337000906467438,\n",
       " 0.1828453242778778,\n",
       " 0.18232280015945435,\n",
       " 0.18180163204669952,\n",
       " 0.1812816858291626,\n",
       " 0.18076388537883759,\n",
       " 0.18024766445159912,\n",
       " 0.17973217368125916,\n",
       " 0.17921899259090424,\n",
       " 0.17870736122131348,\n",
       " 0.17819713056087494,\n",
       " 0.17768828570842743,\n",
       " 0.1771814525127411,\n",
       " 0.17667554318904877,\n",
       " 0.17617139220237732,\n",
       " 0.17566893994808197,\n",
       " 0.17516754567623138]"
      ]
     },
     "execution_count": 97,
     "metadata": {},
     "output_type": "execute_result"
    }
   ],
   "source": [
    "loss_history"
   ]
  },
  {
   "cell_type": "code",
   "execution_count": 98,
   "metadata": {},
   "outputs": [
    {
     "data": {
      "text/plain": [
       "tensor([[-0.3520, -0.9110,  0.1098, -0.4765,  1.6413,  1.9194, -0.8951,  2.3999],\n",
       "        [-0.8413, -2.9574, -0.2518, -0.8618,  3.6611,  3.0154, -0.7575,  4.7848],\n",
       "        [-1.3305, -5.0039, -0.6134, -1.2472,  5.6809,  4.1114, -0.6199,  7.1696],\n",
       "        [-1.8198, -7.0504, -0.9750, -1.6326,  7.7007,  5.2074, -0.4823,  9.5544]],\n",
       "       device='cuda:0', grad_fn=<AddmmBackward0>)"
      ]
     },
     "execution_count": 98,
     "metadata": {},
     "output_type": "execute_result"
    }
   ],
   "source": [
    "SNet3(S)[1]"
   ]
  },
  {
   "cell_type": "markdown",
   "metadata": {},
   "source": [
    "### Sequential method to build a neural network"
   ]
  },
  {
   "cell_type": "code",
   "execution_count": 99,
   "metadata": {},
   "outputs": [],
   "source": [
    "# Input and Output values\n",
    "S = [[1, 2], [3, 4], [5, 6], [7, 8]]\n",
    "y = [[3], [7], [11], [15]]"
   ]
  },
  {
   "cell_type": "code",
   "execution_count": 100,
   "metadata": {},
   "outputs": [
    {
     "name": "stdout",
     "output_type": "stream",
     "text": [
      "cuda\n"
     ]
    }
   ],
   "source": [
    "print(device)"
   ]
  },
  {
   "cell_type": "code",
   "execution_count": 101,
   "metadata": {},
   "outputs": [],
   "source": [
    "class MyDataset(Dataset):\n",
    "    \"\"\"\n",
    "    torch.utils.data.Dataset stores the samples and their corresponding labels.\n",
    "    \"\"\"\n",
    "    def __init__(self, S, y):\n",
    "        self.S = torch.tensor(S).float().to(device)\n",
    "        self.y = torch.tensor(y).float().to(device)\n",
    "    def __getitem__(self, iS):\n",
    "        \"\"\"\n",
    "        The __getitem__ function loads and returns \n",
    "        a sample from the dataset at the given index iS.\n",
    "        \"\"\"\n",
    "        return self.S[iS], self.y[iS]\n",
    "    def __len__(self):\n",
    "        return len(self.S)"
   ]
  },
  {
   "cell_type": "code",
   "execution_count": 102,
   "metadata": {},
   "outputs": [],
   "source": [
    "ds = MyDataset(S, y)"
   ]
  },
  {
   "cell_type": "code",
   "execution_count": 103,
   "metadata": {},
   "outputs": [],
   "source": [
    "# torch.utils.data.DataLoader wraps an iterable around the Dataset to enable easy access to the samples.\n",
    "dl = DataLoader(ds, batch_size=2, shuffle=True)"
   ]
  },
  {
   "cell_type": "code",
   "execution_count": 104,
   "metadata": {},
   "outputs": [],
   "source": [
    "SNet4 = nn.Sequential(\n",
    "    nn.Linear(2, 8),\n",
    "    nn.ReLU(),\n",
    "    nn.Linear(8, 1)\n",
    ").to(device)"
   ]
  },
  {
   "cell_type": "code",
   "execution_count": 105,
   "metadata": {},
   "outputs": [
    {
     "name": "stdout",
     "output_type": "stream",
     "text": [
      "Sequential(\n",
      "  (0): Linear(in_features=2, out_features=8, bias=True)\n",
      "  (1): ReLU()\n",
      "  (2): Linear(in_features=8, out_features=1, bias=True)\n",
      ")\n"
     ]
    }
   ],
   "source": [
    "print(SNet4)"
   ]
  },
  {
   "cell_type": "code",
   "execution_count": 106,
   "metadata": {},
   "outputs": [],
   "source": [
    "loss_fn = nn.MSELoss() # Loss function mean squared error\n",
    "opt = SGD(SNet4.parameters(), lr=0.001) # Optmizer -> stochastic gradient descent\n"
   ]
  },
  {
   "cell_type": "code",
   "execution_count": 107,
   "metadata": {},
   "outputs": [
    {
     "name": "stdout",
     "output_type": "stream",
     "text": [
      "0.15595030784606934\n"
     ]
    }
   ],
   "source": [
    "# Training the neuralnet for 100 epochs\n",
    "loss_history = []\n",
    "start = time.time()\n",
    "for _ in range(100):\n",
    "    for iS, iy in dl:\n",
    "        opt.zero_grad()\n",
    "        loss_value = loss_fn(SNet4(iS), iy)\n",
    "        loss_value.backward()\n",
    "        opt.step()\n",
    "        loss_history.append(loss_value.item())\n",
    "end = time.time()\n",
    "print(end - start)\n"
   ]
  },
  {
   "cell_type": "code",
   "execution_count": 108,
   "metadata": {},
   "outputs": [
    {
     "data": {
      "text/plain": [
       "0.0652865469455719"
      ]
     },
     "execution_count": 108,
     "metadata": {},
     "output_type": "execute_result"
    }
   ],
   "source": [
    "# Loss value after the 100th epoch\n",
    "loss_history[199]"
   ]
  },
  {
   "cell_type": "code",
   "execution_count": 109,
   "metadata": {},
   "outputs": [],
   "source": [
    "# Testing the network on values outside of the training data\n",
    "input_val = [[10, 11], [4.5, 5.5], [17, 18]]\n",
    "input_val = torch.tensor(input_val).float().to(device)\n",
    "output_val = [[21], [10], [35]]\n",
    "output_val = torch.tensor(output_val).float().to(device)"
   ]
  },
  {
   "cell_type": "code",
   "execution_count": 110,
   "metadata": {},
   "outputs": [
    {
     "data": {
      "text/plain": [
       "(tensor([[10.0000, 11.0000],\n",
       "         [ 4.5000,  5.5000],\n",
       "         [17.0000, 18.0000]], device='cuda:0'),\n",
       " tensor([[21.],\n",
       "         [10.],\n",
       "         [35.]], device='cuda:0'))"
      ]
     },
     "execution_count": 110,
     "metadata": {},
     "output_type": "execute_result"
    }
   ],
   "source": [
    "input_val, output_val"
   ]
  },
  {
   "cell_type": "code",
   "execution_count": 111,
   "metadata": {},
   "outputs": [
    {
     "name": "stdout",
     "output_type": "stream",
     "text": [
      "Original Output: 21.0 Predicted Output: 20.627979278564453\n",
      "Original Output: 10.0 Predicted Output: 10.04130744934082\n",
      "Original Output: 35.0 Predicted Output: 34.10192108154297\n"
     ]
    }
   ],
   "source": [
    "for input, ouput in zip(input_val, output_val):\n",
    "    print(f\"Original Output: {ouput.item()} Predicted Output: {SNet4(input).item()}\")"
   ]
  },
  {
   "cell_type": "code",
   "execution_count": 112,
   "metadata": {},
   "outputs": [
    {
     "data": {
      "text/plain": [
       "OrderedDict([('0.weight',\n",
       "              tensor([[-0.1665, -0.5700],\n",
       "                      [ 0.1687, -0.5491],\n",
       "                      [-0.2439,  0.9342],\n",
       "                      [ 0.7378,  0.6382],\n",
       "                      [ 0.5669,  0.1634],\n",
       "                      [-0.4053,  0.1543],\n",
       "                      [-0.3363,  0.7489],\n",
       "                      [-0.1591, -0.4886]], device='cuda:0')),\n",
       "             ('0.bias',\n",
       "              tensor([-0.6602,  0.2172,  0.1419, -0.6243, -0.3379, -0.4985,  0.1603, -0.5184],\n",
       "                     device='cuda:0')),\n",
       "             ('2.weight',\n",
       "              tensor([[ 0.0054, -0.1861,  0.6177,  0.8311,  0.2325,  0.0503,  0.4486,  0.0890]],\n",
       "                     device='cuda:0')),\n",
       "             ('2.bias', tensor([0.3360], device='cuda:0'))])"
      ]
     },
     "execution_count": 112,
     "metadata": {},
     "output_type": "execute_result"
    }
   ],
   "source": [
    "# Weight and Bias values of the neural net after training\n",
    "SNet4.state_dict()"
   ]
  },
  {
   "cell_type": "code",
   "execution_count": null,
   "metadata": {},
   "outputs": [],
   "source": []
  }
 ],
 "metadata": {
  "kernelspec": {
   "display_name": ".venv",
   "language": "python",
   "name": "python3"
  },
  "language_info": {
   "codemirror_mode": {
    "name": "ipython",
    "version": 3
   },
   "file_extension": ".py",
   "mimetype": "text/x-python",
   "name": "python",
   "nbconvert_exporter": "python",
   "pygments_lexer": "ipython3",
   "version": "3.11.1"
  }
 },
 "nbformat": 4,
 "nbformat_minor": 2
}
