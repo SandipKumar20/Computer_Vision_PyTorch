{
 "cells": [
  {
   "cell_type": "code",
   "execution_count": 1,
   "metadata": {},
   "outputs": [],
   "source": [
    "import cv2\n",
    "import matplotlib.pyplot as plt\n",
    "import numpy as np\n",
    "import torch\n",
    "from torchvision import datasets\n",
    "import torch.nn as nn\n",
    "from torch.utils.data import Dataset, DataLoader\n",
    "from torch.optim import SGD, Adam\n",
    "import random"
   ]
  },
  {
   "cell_type": "code",
   "execution_count": 2,
   "metadata": {},
   "outputs": [],
   "source": [
    "fmnist = datasets.FashionMNIST(root=\"./data\", download=True, train=True)"
   ]
  },
  {
   "cell_type": "code",
   "execution_count": 3,
   "metadata": {},
   "outputs": [],
   "source": [
    "# Training data\n",
    "tr_images = fmnist.data\n",
    "tr_targets = fmnist.targets"
   ]
  },
  {
   "cell_type": "code",
   "execution_count": 4,
   "metadata": {},
   "outputs": [
    {
     "data": {
      "text/plain": [
       "(torch.Size([60000, 28, 28]), torch.Size([60000]))"
      ]
     },
     "execution_count": 4,
     "metadata": {},
     "output_type": "execute_result"
    }
   ],
   "source": [
    "tr_images.shape, tr_targets.shape"
   ]
  },
  {
   "cell_type": "code",
   "execution_count": 5,
   "metadata": {},
   "outputs": [],
   "source": [
    "val_fmnist = datasets.FashionMNIST(root=\"./data\", download=True, train=False)"
   ]
  },
  {
   "cell_type": "code",
   "execution_count": 6,
   "metadata": {},
   "outputs": [],
   "source": [
    "# Validation data\n",
    "val_images = val_fmnist.data\n",
    "val_targets = val_fmnist.targets"
   ]
  },
  {
   "cell_type": "code",
   "execution_count": 7,
   "metadata": {},
   "outputs": [
    {
     "data": {
      "text/plain": [
       "(torch.Size([10000, 28, 28]), torch.Size([10000]))"
      ]
     },
     "execution_count": 7,
     "metadata": {},
     "output_type": "execute_result"
    }
   ],
   "source": [
    "val_images.shape, val_targets.shape"
   ]
  },
  {
   "cell_type": "code",
   "execution_count": 8,
   "metadata": {},
   "outputs": [
    {
     "name": "stdout",
     "output_type": "stream",
     "text": [
      "cuda\n"
     ]
    }
   ],
   "source": [
    "device = \"cuda\" if torch.cuda.is_available() else \"cpu\"\n",
    "print(device)"
   ]
  },
  {
   "cell_type": "code",
   "execution_count": 9,
   "metadata": {},
   "outputs": [],
   "source": [
    "class FMNISTDataset(Dataset):\n",
    "    \"\"\"Class which fetches the dataset\"\"\"\n",
    "    def __init__(self, S, y):\n",
    "        S = S.float()/255 # Converting the input into floating point numbers and scaling the input to (0, 1)\n",
    "        S = S.unsqueeze(1) # This converts the shape from [batch_size, 28, 28] to [batch_size, 1, 28, 28]\n",
    "        self.S, self.y = S, y\n",
    "    def __getitem__(self, iS):\n",
    "        \"\"\" This method contains logic for what should be returned \n",
    "            when we ask for iS th datapoint\n",
    "        \"\"\"\n",
    "        S, y = self.S[iS], self.y[iS]\n",
    "        return S.to(device), y.to(device)\n",
    "    def __len__(self):\n",
    "        \"\"\" This method computes the number of datapoints in the dataset\n",
    "        \"\"\"\n",
    "        return len(self.S)"
   ]
  },
  {
   "cell_type": "code",
   "execution_count": 10,
   "metadata": {},
   "outputs": [],
   "source": [
    "def get_model():\n",
    "    \"\"\" This function creates a convolutional neural net (with two convolutional layers, two maxpool layers, \n",
    "        and three dense layers), the loss function(cross entropy) and the optmizer(Adam)\"\"\"\n",
    "    SNet = nn.Sequential(\n",
    "        nn.Conv2d(1, 6, 5),\n",
    "        nn.ReLU(),\n",
    "        nn.MaxPool2d(2, 2),\n",
    "        nn.Conv2d(6, 16, 5),\n",
    "        nn.ReLU(),\n",
    "        nn.MaxPool2d(2, 2),\n",
    "        nn.Flatten(),\n",
    "        nn.Linear(16 * 4 * 4, 120),\n",
    "        nn.ReLU(),\n",
    "        nn.Linear(120, 84),\n",
    "        nn.ReLU(),\n",
    "        nn.Linear(84, 10)\n",
    "    ).to(device)\n",
    "    loss_fn = nn.CrossEntropyLoss()\n",
    "    optimizer = Adam(SNet.parameters(), lr=1e-2)\n",
    "    return SNet, loss_fn, optimizer"
   ]
  },
  {
   "cell_type": "code",
   "execution_count": 11,
   "metadata": {},
   "outputs": [],
   "source": [
    "def train_batch(S, y, SNet, optimizer, loss_fn):\n",
    "    \"\"\"This function will train the neural net on a \n",
    "       batch of images\"\"\"\n",
    "    SNet.train() # Tells the neural net that you are training it\n",
    "    prediction = SNet(S) \n",
    "    batch_loss = loss_fn(prediction, y) # Computing the loss value\n",
    "    batch_loss.backward()  # Computing the gradients of the loss fn wrt the parameters of the neural net\n",
    "    optimizer.step() # Updating the values of the parameters of the neural net \n",
    "    optimizer.zero_grad() # Flush gradients memory for next batch of calculations\n",
    "    return batch_loss.item()"
   ]
  },
  {
   "cell_type": "code",
   "execution_count": 12,
   "metadata": {},
   "outputs": [],
   "source": [
    "def accuracy(S, y, SNet):\n",
    "    \"\"\"This function calculates whether the model's predictions for each input in the batch are correct, \n",
    "       comparing the predicted class (from the argmax of the output logits) with the true class labels.\n",
    "       It then returns a list of booleans, where each element is True if the corresponding prediction \n",
    "       was correct and False if it was incorrect.\"\"\"\n",
    "    SNet.eval()\n",
    "    with torch.no_grad():\n",
    "        prediction = SNet(S)\n",
    "    max_values, argmaxes = prediction.max(-1)\n",
    "    is_correct = argmaxes == y\n",
    "    return is_correct.cpu().numpy().tolist()"
   ]
  },
  {
   "cell_type": "code",
   "execution_count": 13,
   "metadata": {},
   "outputs": [],
   "source": [
    "def get_data():\n",
    "    \"\"\"This function prepares and returns two data loaders: one for training (with batching and shuffling) \n",
    "       and one for validation (with the full validation set)\"\"\"\n",
    "    train = FMNISTDataset(tr_images, tr_targets)\n",
    "    trn_dl = DataLoader(train, batch_size=32, shuffle=True)\n",
    "    val = FMNISTDataset(val_images, val_targets)\n",
    "    val_dl = DataLoader(val, batch_size=len(val_images), shuffle=False)\n",
    "    return trn_dl, val_dl"
   ]
  },
  {
   "cell_type": "code",
   "execution_count": 14,
   "metadata": {},
   "outputs": [],
   "source": [
    "trn_dl, val_dl = get_data()\n",
    "SNet, loss_fn, optimizer = get_model()"
   ]
  },
  {
   "cell_type": "code",
   "execution_count": 15,
   "metadata": {},
   "outputs": [
    {
     "name": "stdout",
     "output_type": "stream",
     "text": [
      "Sequential(\n",
      "  (0): Conv2d(1, 6, kernel_size=(5, 5), stride=(1, 1))\n",
      "  (1): ReLU()\n",
      "  (2): MaxPool2d(kernel_size=2, stride=2, padding=0, dilation=1, ceil_mode=False)\n",
      "  (3): Conv2d(6, 16, kernel_size=(5, 5), stride=(1, 1))\n",
      "  (4): ReLU()\n",
      "  (5): MaxPool2d(kernel_size=2, stride=2, padding=0, dilation=1, ceil_mode=False)\n",
      "  (6): Flatten(start_dim=1, end_dim=-1)\n",
      "  (7): Linear(in_features=256, out_features=120, bias=True)\n",
      "  (8): ReLU()\n",
      "  (9): Linear(in_features=120, out_features=84, bias=True)\n",
      "  (10): ReLU()\n",
      "  (11): Linear(in_features=84, out_features=10, bias=True)\n",
      ")\n"
     ]
    }
   ],
   "source": [
    "print(SNet)"
   ]
  },
  {
   "cell_type": "code",
   "execution_count": 16,
   "metadata": {},
   "outputs": [],
   "source": [
    "@torch.no_grad()\n",
    "def val_loss(S, y, SNet):\n",
    "    \"\"\"This function computes the validation loss of the neural net\"\"\"\n",
    "    prediction = SNet(S)\n",
    "    val_loss = loss_fn(prediction, y)\n",
    "    return val_loss.item()"
   ]
  },
  {
   "cell_type": "code",
   "execution_count": 17,
   "metadata": {},
   "outputs": [
    {
     "name": "stdout",
     "output_type": "stream",
     "text": [
      "0\n",
      "1\n",
      "2\n",
      "3\n",
      "4\n"
     ]
    }
   ],
   "source": [
    "# Training the neural net\n",
    "train_losses, train_accuracies = [], [] \n",
    "val_losses, val_accuracies = [], [] # Initializing the lists which will contain training accuracy, training loss, validation accuracy, \n",
    "# validation loss at every epoch\n",
    "for epoch in range(5):  # Training the neural net for 5 epochs\n",
    "    print(epoch)\n",
    "    train_epoch_losses, train_epoch_accuracies = [], [] # Initializing the lists that will contain the accuracy and loss value at every batch\n",
    "    for iS, batch in enumerate(iter(trn_dl)): # Creating batches of training data by iterating through the dataloader\n",
    "        S, y = batch\n",
    "        batch_loss = train_batch(S, y, SNet, optimizer, loss_fn) # train the batch with the aid of the train_batch function and compute the loss\n",
    "        train_epoch_losses.append(batch_loss) # Storing the training batch loss to the train_epoch_losses list\n",
    "    train_epoch_loss = np.array(train_epoch_losses).mean() # Computing the training loss for the epoch\n",
    "    for iS, batch in enumerate(iter(trn_dl)):\n",
    "        S, y = batch\n",
    "        is_correct = accuracy(S, y, SNet)\n",
    "        train_epoch_accuracies.extend(is_correct)\n",
    "    train_epoch_accuracy = np.mean(train_epoch_accuracies) # Computing the training accuracy for the epoch\n",
    "    for iS, batch in enumerate(iter(val_dl)):\n",
    "        S, y = batch\n",
    "        val_is_correct = accuracy(S, y, SNet)\n",
    "        validation_loss = val_loss(S, y, SNet)\n",
    "    val_epoch_accuracy = np.mean(val_is_correct) # Computing the validation accuacy for the epoch\n",
    "    # Storing the training and validation loss values and accuracy in the respective lists\n",
    "    train_losses.append(train_epoch_loss)\n",
    "    train_accuracies.append(train_epoch_accuracy)\n",
    "    val_losses.append(validation_loss)\n",
    "    val_accuracies.append(val_epoch_accuracy)"
   ]
  },
  {
   "cell_type": "code",
   "execution_count": 20,
   "metadata": {},
   "outputs": [
    {
     "data": {
      "text/plain": [
       "([0.5453124990860622,\n",
       "  0.43666527645985287,\n",
       "  0.4165937164068222,\n",
       "  0.4003715436736743,\n",
       "  0.3982072040041288],\n",
       " [0.8464, 0.8495666666666667, 0.8562, 0.8626666666666667, 0.8417],\n",
       " [0.45120352506637573,\n",
       "  0.4434438943862915,\n",
       "  0.42959028482437134,\n",
       "  0.4318244755268097,\n",
       "  0.4653491675853729],\n",
       " [0.8359, 0.8374, 0.8435, 0.8475, 0.8354])"
      ]
     },
     "execution_count": 20,
     "metadata": {},
     "output_type": "execute_result"
    }
   ],
   "source": [
    "train_losses, train_accuracies, val_losses, val_accuracies"
   ]
  },
  {
   "cell_type": "code",
   "execution_count": 25,
   "metadata": {},
   "outputs": [
    {
     "data": {
      "image/png": "[encoded data removed]",
      "text/plain": [
       "<Figure size 640x480 with 1 Axes>"
      ]
     },
     "metadata": {},
     "output_type": "display_data"
    },
    {
     "data": {
      "image/png": "[encoded data removed]",
      "text/plain": [
       "<Figure size 640x480 with 1 Axes>"
      ]
     },
     "metadata": {},
     "output_type": "display_data"
    }
   ],
   "source": [
    "# Plotting the training loss, training accuracy, validation loss, validation accuracy\n",
    "epochs = np.arange(5) + 1\n",
    "plt.subplot(211)\n",
    "plt.plot(epochs, train_losses, \"g\", label=\"Training loss\")\n",
    "plt.plot(epochs, val_losses, \"r\", label=\"Validation loss\")\n",
    "plt.title(\"Training and validation loss\")\n",
    "plt.xlabel(\"Epochs\")\n",
    "plt.ylabel(\"Loss\")\n",
    "plt.legend()\n",
    "plt.show()\n",
    "\n",
    "plt.subplot(212)\n",
    "plt.plot(epochs, train_accuracies, \"g\", label=\"Training accuracy\")\n",
    "plt.plot(epochs, val_accuracies, \"r\", label=\"Validation accuracy\")\n",
    "plt.title(\"Training and validation accuracy\")\n",
    "plt.xlabel(\"Epochs\")\n",
    "plt.ylabel(\"Accuracy\")\n",
    "plt.legend()\n",
    "plt.show()"
   ]
  },
  {
   "cell_type": "code",
   "execution_count": null,
   "metadata": {},
   "outputs": [],
   "source": []
  }
 ],
 "metadata": {
  "kernelspec": {
   "display_name": ".venv",
   "language": "python",
   "name": "python3"
  },
  "language_info": {
   "codemirror_mode": {
    "name": "ipython",
    "version": 3
   },
   "file_extension": ".py",
   "mimetype": "text/x-python",
   "name": "python",
   "nbconvert_exporter": "python",
   "pygments_lexer": "ipython3",
   "version": "3.11.1"
  }
 },
 "nbformat": 4,
 "nbformat_minor": 2
}
