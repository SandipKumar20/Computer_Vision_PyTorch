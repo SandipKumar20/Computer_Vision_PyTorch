{
 "cells": [
  {
   "cell_type": "code",
   "execution_count": null,
   "metadata": {},
   "outputs": [],
   "source": [
    "def get_iou(boxA, boxB, epsilon=1e-5):\n",
    "    \"\"\"Computes the Intersection over Union (IoU) metric between two bounding boxes\n",
    "    \n",
    "    Arguments:\n",
    "    boxA -- list or tuple containing (x1, y1, x2, y2) coordinates of the first bounding box\n",
    "    boxB -- list or tuple containing (x1, y1, x2, y2) coordinates of the second bounding box\n",
    "    (x1, y1) -- top-left corner of the respective bounding boxes\n",
    "    (x2, y2) -- bottom-right corner of the respective bounding boxes\n",
    "    epsilon -- a small value to prevent division by zero (default is 1e-5)\n",
    "    \n",
    "    Returns:\n",
    "    iou -- Intersection over Union score (float)\n",
    "    \"\"\"\n",
    "    \n",
    "    # Find the coordinates of the intersection box:\n",
    "    # x1, y1 is the top-left corner of the intersection rectangle\n",
    "    # x2, y2 is the bottom-right corner of the intersection rectangle\n",
    "    x1 = max(boxA[0], boxB[0])  # The maximum x-coordinate of the top-left corner\n",
    "    y1 = max(boxA[1], boxB[1])  # The maximum y-coordinate of the top-left corner\n",
    "    x2 = min(boxA[2], boxB[2])  # The minimum x-coordinate of the bottom-right corner\n",
    "    y2 = min(boxA[3], boxB[3])  # The minimum y-coordinate of the bottom-right corner\n",
    "    \n",
    "    # Calculate the width and height of the intersection box\n",
    "    width = (x2 - x1)\n",
    "    height = (y2 - y1)\n",
    "    \n",
    "    # If the intersection width or height is negative, it means there's no intersection\n",
    "    if (width < 0) or (height < 0):\n",
    "        return 0.0  # No overlap, IoU is 0\n",
    "    \n",
    "    # Calculate the area of the intersection\n",
    "    area_overlap = width * height\n",
    "    \n",
    "    # Calculate the area of both boxes\n",
    "    area_a = (boxA[2] - boxA[0]) * (boxA[3] - boxA[1])  # Area of boxA\n",
    "    area_b = (boxB[2] - boxB[0]) * (boxB[3] - boxB[1])  # Area of boxB\n",
    "    \n",
    "    # Calculate the area of the union (combined area) by adding the areas of both boxes,\n",
    "    # and subtracting the intersection area (since it's counted twice).\n",
    "    area_combined = area_a + area_b - area_overlap\n",
    "    \n",
    "    # Calculate the Intersection over Union (IoU) score\n",
    "    # The epsilon is added to prevent division by zero in case of no area (i.e., no overlap).\n",
    "    iou = area_overlap / (area_combined + epsilon)\n",
    "    \n",
    "    # Return the IoU score\n",
    "    return iou\n"
   ]
  },
  {
   "cell_type": "code",
   "execution_count": null,
   "metadata": {},
   "outputs": [
    {
     "data": {
      "text/plain": [
       "0.47115380085059605"
      ]
     },
     "execution_count": 3,
     "metadata": {},
     "output_type": "execute_result"
    }
   ],
   "source": [
    "# Computing the IoU metric for dummy bounding boxes\n",
    "boxA = [10, 12, 18, 21]\n",
    "boxB = [8, 14, 17, 23]\n",
    "get_iou(boxA, boxB)"
   ]
  },
  {
   "cell_type": "code",
   "execution_count": null,
   "metadata": {},
   "outputs": [],
   "source": []
  }
 ],
 "metadata": {
  "kernelspec": {
   "display_name": ".venv",
   "language": "python",
   "name": "python3"
  },
  "language_info": {
   "codemirror_mode": {
    "name": "ipython",
    "version": 3
   },
   "file_extension": ".py",
   "mimetype": "text/x-python",
   "name": "python",
   "nbconvert_exporter": "python",
   "pygments_lexer": "ipython3",
   "version": "3.11.1"
  }
 },
 "nbformat": 4,
 "nbformat_minor": 2
}
