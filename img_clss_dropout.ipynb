{
 "cells": [
  {
   "cell_type": "code",
   "execution_count": 1,
   "metadata": {},
   "outputs": [],
   "source": [
    "import cv2\n",
    "import matplotlib.pyplot as plt\n",
    "import numpy as np\n",
    "import torch\n",
    "from torchvision import datasets\n",
    "import torch.nn as nn\n",
    "from torch.utils.data import Dataset, DataLoader\n",
    "from torch.optim import SGD, Adam, Adadelta, Adagrad, RMSprop"
   ]
  },
  {
   "cell_type": "markdown",
   "metadata": {},
   "source": [
    "### Training  a neural net with dropout"
   ]
  },
  {
   "cell_type": "code",
   "execution_count": 2,
   "metadata": {},
   "outputs": [
    {
     "data": {
      "text/plain": [
       "(torch.Size([60000, 28, 28]), torch.Size([60000]))"
      ]
     },
     "execution_count": 2,
     "metadata": {},
     "output_type": "execute_result"
    }
   ],
   "source": [
    "fmnist = datasets.FashionMNIST(root='./data', train=True, download=True)\n",
    "tr_images = fmnist.data\n",
    "tr_targets = fmnist.targets\n",
    "tr_images.shape, tr_targets.shape"
   ]
  },
  {
   "cell_type": "code",
   "execution_count": 3,
   "metadata": {},
   "outputs": [
    {
     "data": {
      "text/plain": [
       "(torch.Size([10000, 28, 28]), torch.Size([10000]))"
      ]
     },
     "execution_count": 3,
     "metadata": {},
     "output_type": "execute_result"
    }
   ],
   "source": [
    "val_fmnist = datasets.FashionMNIST(root='./data', train=False, download=True)\n",
    "val_images = val_fmnist.data\n",
    "val_targets = val_fmnist.targets\n",
    "val_images.shape, val_targets.shape"
   ]
  },
  {
   "cell_type": "code",
   "execution_count": 4,
   "metadata": {},
   "outputs": [
    {
     "name": "stdout",
     "output_type": "stream",
     "text": [
      "cuda\n"
     ]
    }
   ],
   "source": [
    "device = \"cuda\" if torch.cuda.is_available() else \"cpu\"\n",
    "print(device)"
   ]
  },
  {
   "cell_type": "code",
   "execution_count": 5,
   "metadata": {},
   "outputs": [],
   "source": [
    "class FMNISTDataset(Dataset):\n",
    "    def __init__(self, x, y):\n",
    "        x = x.float()/255\n",
    "        x = x.view(-1, 28*28)\n",
    "        self.x, self.y = x, y\n",
    "    def __getitem__(self, ix):\n",
    "        x, y = self.x[ix], self.y[ix]\n",
    "        return x.to(device), y.to(device)\n",
    "    def __len__(self):\n",
    "        return len(self.x)"
   ]
  },
  {
   "cell_type": "code",
   "execution_count": 6,
   "metadata": {},
   "outputs": [],
   "source": [
    "def get_model():\n",
    "    SNet = nn.Sequential(\n",
    "        nn.Dropout(0.25),\n",
    "        nn.Linear(28*28, 1000),\n",
    "        nn.ReLU(),\n",
    "        nn.Dropout(0.25),\n",
    "        nn.Linear(1000, 10)\n",
    "    ).to(device)\n",
    "    loss_fn = nn.CrossEntropyLoss()\n",
    "    optimizer = Adam(SNet.parameters(), lr=1e-3)\n",
    "    return SNet, loss_fn, optimizer"
   ]
  },
  {
   "cell_type": "code",
   "execution_count": 7,
   "metadata": {},
   "outputs": [],
   "source": [
    "def train_batch(x, y, SNet, optimizer, loss_fn):\n",
    "    SNet.train()\n",
    "    prediction = SNet(x)\n",
    "    batch_loss = loss_fn(prediction, y)\n",
    "    batch_loss.backward()\n",
    "    optimizer.step()\n",
    "    optimizer.zero_grad()\n",
    "    return batch_loss.item()"
   ]
  },
  {
   "cell_type": "code",
   "execution_count": 13,
   "metadata": {},
   "outputs": [],
   "source": [
    "def accuracy(x, y, SNet):\n",
    "    with torch.no_grad():\n",
    "        prediction = SNet(x)\n",
    "    max_values, argmaxes = prediction.max(-1)\n",
    "    is_correct = argmaxes == y\n",
    "    return is_correct.cpu().numpy().tolist()"
   ]
  },
  {
   "cell_type": "code",
   "execution_count": 9,
   "metadata": {},
   "outputs": [],
   "source": [
    "def get_data():\n",
    "    train = FMNISTDataset(tr_images, tr_targets)\n",
    "    trn_dl = DataLoader(train, batch_size=32, shuffle=True)\n",
    "    val = FMNISTDataset(val_images, val_targets)\n",
    "    val_dl = DataLoader(val, batch_size=len(val_images), shuffle=False)\n",
    "    return trn_dl, val_dl"
   ]
  },
  {
   "cell_type": "code",
   "execution_count": 10,
   "metadata": {},
   "outputs": [],
   "source": [
    "trn_dl, val_dl = get_data()\n",
    "SNet, loss_fn, optimizer = get_model()"
   ]
  },
  {
   "cell_type": "code",
   "execution_count": 11,
   "metadata": {},
   "outputs": [],
   "source": [
    "@torch.no_grad()\n",
    "def val_loss(x, y, SNet):\n",
    "    SNet.eval()\n",
    "    prediction = SNet(x)\n",
    "    val_loss = loss_fn(prediction, y)\n",
    "    return val_loss.item()"
   ]
  },
  {
   "cell_type": "code",
   "execution_count": 14,
   "metadata": {},
   "outputs": [
    {
     "name": "stdout",
     "output_type": "stream",
     "text": [
      "0\n",
      "1\n",
      "2\n",
      "3\n",
      "4\n",
      "5\n",
      "6\n",
      "7\n",
      "8\n",
      "9\n",
      "10\n",
      "11\n",
      "12\n",
      "13\n",
      "14\n",
      "15\n",
      "16\n",
      "17\n",
      "18\n",
      "19\n",
      "20\n",
      "21\n",
      "22\n",
      "23\n",
      "24\n",
      "25\n",
      "26\n",
      "27\n",
      "28\n",
      "29\n"
     ]
    }
   ],
   "source": [
    "train_losses, train_accuracies = [], []\n",
    "val_losses, val_accuracies = [], []\n",
    "for epoch in range(30):\n",
    "    print(epoch)\n",
    "    train_epoch_losses, train_epoch_accuracies = [], []\n",
    "    for ix, batch in enumerate(iter(trn_dl)):\n",
    "        X, y = batch\n",
    "        batch_loss = train_batch(X, y, SNet, optimizer, loss_fn)\n",
    "        train_epoch_losses.append(batch_loss)\n",
    "    train_epoch_loss = np.array(train_epoch_losses).mean()\n",
    "    for ix, batch in enumerate(iter(trn_dl)):\n",
    "        X, y = batch\n",
    "        is_correct = accuracy(X, y, SNet)\n",
    "        train_epoch_accuracies.extend(is_correct)\n",
    "    train_epoch_accuracy = np.mean(train_epoch_accuracies)\n",
    "    for ix, batch in enumerate(iter(val_dl)):\n",
    "        X, y = batch\n",
    "        val_is_correct = accuracy(X, y, SNet)\n",
    "        validation_loss = val_loss(X, y, SNet)\n",
    "    val_epoch_accuracy = np.mean(val_is_correct)\n",
    "    train_losses.append(train_epoch_loss)\n",
    "    train_accuracies.append(train_epoch_accuracy)\n",
    "    val_losses.append(validation_loss)\n",
    "    val_accuracies.append(val_epoch_accuracy)"
   ]
  },
  {
   "cell_type": "code",
   "execution_count": 15,
   "metadata": {},
   "outputs": [
    {
     "data": {
      "text/plain": [
       "([0.8520666666666666,\n",
       "  0.8574333333333334,\n",
       "  0.8708333333333333,\n",
       "  0.8695666666666667,\n",
       "  0.8735666666666667,\n",
       "  0.8737166666666667,\n",
       "  0.8816833333333334,\n",
       "  0.8765,\n",
       "  0.8780333333333333,\n",
       "  0.88885,\n",
       "  0.88295,\n",
       "  0.8815,\n",
       "  0.8857666666666667,\n",
       "  0.8870166666666667,\n",
       "  0.8898,\n",
       "  0.88755,\n",
       "  0.8921666666666667,\n",
       "  0.8916833333333334,\n",
       "  0.8914666666666666,\n",
       "  0.8914833333333333,\n",
       "  0.89815,\n",
       "  0.8948333333333334,\n",
       "  0.8941,\n",
       "  0.8947166666666667,\n",
       "  0.8981833333333333,\n",
       "  0.89395,\n",
       "  0.8963166666666667,\n",
       "  0.9013666666666666,\n",
       "  0.8997333333333334,\n",
       "  0.90015],\n",
       " [0.4263884729067485,\n",
       "  0.3982495814104875,\n",
       "  0.3807503543694814,\n",
       "  0.3665866401841243,\n",
       "  0.35041550170183183,\n",
       "  0.344746492489179,\n",
       "  0.3408997194449107,\n",
       "  0.33372282308538753,\n",
       "  0.3278945626338323,\n",
       "  0.3216946038941542,\n",
       "  0.316729844758908,\n",
       "  0.31606628250281016,\n",
       "  0.30933068717916806,\n",
       "  0.3094833615640799,\n",
       "  0.3021866977453232,\n",
       "  0.299614416406552,\n",
       "  0.29986263304948807,\n",
       "  0.29497124296625454,\n",
       "  0.2921862723102172,\n",
       "  0.29071985447903476,\n",
       "  0.2921236528605223,\n",
       "  0.289278145604829,\n",
       "  0.2865948320130507,\n",
       "  0.28453584353824457,\n",
       "  0.28214852781842154,\n",
       "  0.2791929019321998,\n",
       "  0.27945963566303256,\n",
       "  0.27690832133392496,\n",
       "  0.27528418680032096,\n",
       "  0.27485023755331833],\n",
       " [0.8409,\n",
       "  0.841,\n",
       "  0.8519,\n",
       "  0.8533,\n",
       "  0.8575,\n",
       "  0.8475,\n",
       "  0.8589,\n",
       "  0.8523,\n",
       "  0.8548,\n",
       "  0.8688,\n",
       "  0.8592,\n",
       "  0.8592,\n",
       "  0.861,\n",
       "  0.8627,\n",
       "  0.8636,\n",
       "  0.8674,\n",
       "  0.868,\n",
       "  0.8639,\n",
       "  0.8602,\n",
       "  0.8654,\n",
       "  0.8684,\n",
       "  0.8655,\n",
       "  0.8626,\n",
       "  0.8611,\n",
       "  0.8639,\n",
       "  0.8623,\n",
       "  0.8626,\n",
       "  0.8678,\n",
       "  0.8699,\n",
       "  0.8653],\n",
       " [0.4042024314403534,\n",
       "  0.3852979242801666,\n",
       "  0.3631307780742645,\n",
       "  0.3580307960510254,\n",
       "  0.3605961501598358,\n",
       "  0.3563230633735657,\n",
       "  0.33777913451194763,\n",
       "  0.35063886642456055,\n",
       "  0.35125064849853516,\n",
       "  0.3264739513397217,\n",
       "  0.3374329209327698,\n",
       "  0.34432849287986755,\n",
       "  0.3287973999977112,\n",
       "  0.33206838369369507,\n",
       "  0.334333598613739,\n",
       "  0.33045274019241333,\n",
       "  0.32624486088752747,\n",
       "  0.3370109498500824,\n",
       "  0.3306941092014313,\n",
       "  0.34200435876846313,\n",
       "  0.3213697671890259,\n",
       "  0.33267390727996826,\n",
       "  0.32574740052223206,\n",
       "  0.32861796021461487,\n",
       "  0.33883416652679443,\n",
       "  0.3487468659877777,\n",
       "  0.3445495665073395,\n",
       "  0.3267733156681061,\n",
       "  0.3221844434738159,\n",
       "  0.3319278061389923])"
      ]
     },
     "execution_count": 15,
     "metadata": {},
     "output_type": "execute_result"
    }
   ],
   "source": [
    "train_accuracies, train_losses, val_accuracies, val_losses"
   ]
  },
  {
   "cell_type": "code",
   "execution_count": 16,
   "metadata": {},
   "outputs": [
    {
     "data": {
      "image/png": "[encoded data removed]",
      "text/plain": [
       "<Figure size 640x480 with 1 Axes>"
      ]
     },
     "metadata": {},
     "output_type": "display_data"
    },
    {
     "data": {
      "image/png": "[encoded data removed]",
      "text/plain": [
       "<Figure size 640x480 with 1 Axes>"
      ]
     },
     "metadata": {},
     "output_type": "display_data"
    }
   ],
   "source": [
    "epochs = np.arange(30)+1\n",
    "plt.subplot(211)\n",
    "plt.plot(epochs, train_losses, \"g\", label=\"Training loss\")\n",
    "plt.plot(epochs, val_losses, \"r\", label=\"Validation loss\")\n",
    "plt.title(\"Training and validation loss with dropout\")\n",
    "plt.xlabel(\"Epochs\")\n",
    "plt.ylabel(\"Loss\")\n",
    "plt.legend()\n",
    "plt.show()\n",
    "plt.subplot(212)\n",
    "plt.plot(epochs, train_accuracies, \"g\", label=\"Training accuracy\")\n",
    "plt.plot(epochs, val_accuracies, \"r\", label=\"Validation accuracy\")\n",
    "plt.title(\"Training and validation accuracy with dropout\")\n",
    "plt.xlabel(\"Epochs\")\n",
    "plt.ylabel(\"Accuracy\")\n",
    "plt.legend()\n",
    "plt.show()"
   ]
  },
  {
   "cell_type": "code",
   "execution_count": null,
   "metadata": {},
   "outputs": [],
   "source": []
  }
 ],
 "metadata": {
  "kernelspec": {
   "display_name": ".venv",
   "language": "python",
   "name": "python3"
  },
  "language_info": {
   "codemirror_mode": {
    "name": "ipython",
    "version": 3
   },
   "file_extension": ".py",
   "mimetype": "text/x-python",
   "name": "python",
   "nbconvert_exporter": "python",
   "pygments_lexer": "ipython3",
   "version": "3.11.1"
  }
 },
 "nbformat": 4,
 "nbformat_minor": 2
}
